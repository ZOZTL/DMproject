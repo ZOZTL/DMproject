{
 "cells": [
  {
   "cell_type": "code",
   "execution_count": 1,
   "metadata": {},
   "outputs": [],
   "source": [
    "import pandas as pd\n",
    "import numpy as np"
   ]
  },
  {
   "cell_type": "code",
   "execution_count": 2,
   "metadata": {},
   "outputs": [],
   "source": [
    "path = \"./dataset/Consumer Insights/\"\n",
    "data_df = pd.read_csv(path+'Consumer Insights.csv', index_col=0)"
   ]
  },
  {
   "cell_type": "markdown",
   "metadata": {},
   "source": [
    "## 数据摘要"
   ]
  },
  {
   "cell_type": "code",
   "execution_count": 3,
   "metadata": {},
   "outputs": [
    {
     "data": {
      "text/html": [
       "<div>\n",
       "<style scoped>\n",
       "    .dataframe tbody tr th:only-of-type {\n",
       "        vertical-align: middle;\n",
       "    }\n",
       "\n",
       "    .dataframe tbody tr th {\n",
       "        vertical-align: top;\n",
       "    }\n",
       "\n",
       "    .dataframe thead th {\n",
       "        text-align: right;\n",
       "    }\n",
       "</style>\n",
       "<table border=\"1\" class=\"dataframe\">\n",
       "  <thead>\n",
       "    <tr style=\"text-align: right;\">\n",
       "      <th></th>\n",
       "      <th>date_range_start</th>\n",
       "      <th>date_range_end</th>\n",
       "      <th>raw_visit_count</th>\n",
       "      <th>raw_visitor_count</th>\n",
       "      <th>visitor_home_cbgs</th>\n",
       "      <th>visitor_work_cbgs</th>\n",
       "      <th>distance_from_home</th>\n",
       "      <th>related_same_day_brand</th>\n",
       "      <th>related_same_month_brand</th>\n",
       "      <th>top_brands</th>\n",
       "      <th>popularity_by_hour</th>\n",
       "      <th>popularity_by_day</th>\n",
       "    </tr>\n",
       "    <tr>\n",
       "      <th>census_block_group</th>\n",
       "      <th></th>\n",
       "      <th></th>\n",
       "      <th></th>\n",
       "      <th></th>\n",
       "      <th></th>\n",
       "      <th></th>\n",
       "      <th></th>\n",
       "      <th></th>\n",
       "      <th></th>\n",
       "      <th></th>\n",
       "      <th></th>\n",
       "      <th></th>\n",
       "    </tr>\n",
       "  </thead>\n",
       "  <tbody>\n",
       "    <tr>\n",
       "      <th>1.005951e+10</th>\n",
       "      <td>1538352000</td>\n",
       "      <td>1541030400</td>\n",
       "      <td>75122.0</td>\n",
       "      <td>18314.0</td>\n",
       "      <td>{\"010059501003\":127,\"010059509001\":111,\"010059...</td>\n",
       "      <td>{\"010059501003\":109,\"010810407002\":62,\"0108104...</td>\n",
       "      <td>194724.0</td>\n",
       "      <td>[\"Chick-fil-A\",\"mcdonalds\",\"Marathon Petroleum...</td>\n",
       "      <td>[\"walmart\",\"mcdonalds\",\"Dollar General\",\"Chick...</td>\n",
       "      <td>[\"CrossFit\",\"Health Mart\",\"Coldwell Banker\"]</td>\n",
       "      <td>[2617,2457,2403,2519,2646,3007,3886,7566,5508,...</td>\n",
       "      <td>{\"Monday\":12000,\"Tuesday\":12224,\"Wednesday\":10...</td>\n",
       "    </tr>\n",
       "    <tr>\n",
       "      <th>1.009051e+10</th>\n",
       "      <td>1538352000</td>\n",
       "      <td>1541030400</td>\n",
       "      <td>95649.0</td>\n",
       "      <td>38942.0</td>\n",
       "      <td>{\"010730113021\":210,\"010090506022\":205,\"010090...</td>\n",
       "      <td>{\"010890111001\":271,\"010730045001\":269,\"010439...</td>\n",
       "      <td>120587.0</td>\n",
       "      <td>[\"Shell Oil\",\"mcdonalds\",\"Chick-fil-A\",\"Chevron\"]</td>\n",
       "      <td>[\"walmart\",\"mcdonalds\",\"Shell Oil\",\"Chick-fil-...</td>\n",
       "      <td>[]</td>\n",
       "      <td>[6556,6325,6222,6355,6586,7350,8568,8099,7378,...</td>\n",
       "      <td>{\"Monday\":12125,\"Tuesday\":12984,\"Wednesday\":12...</td>\n",
       "    </tr>\n",
       "    <tr>\n",
       "      <th>1.047957e+10</th>\n",
       "      <td>1538352000</td>\n",
       "      <td>1541030400</td>\n",
       "      <td>14009.0</td>\n",
       "      <td>3039.0</td>\n",
       "      <td>{\"010479567011\":67,\"010479567021\":60}</td>\n",
       "      <td>{\"010479567021\":52}</td>\n",
       "      <td>67774.0</td>\n",
       "      <td>[\"Dollar General\"]</td>\n",
       "      <td>[\"walmart\",\"Dollar General\",\"mcdonalds\",\"Chevr...</td>\n",
       "      <td>[\"Dollar General\"]</td>\n",
       "      <td>[807,790,796,786,851,951,1134,1797,1355,1241,1...</td>\n",
       "      <td>{\"Monday\":2314,\"Tuesday\":2340,\"Wednesday\":2195...</td>\n",
       "    </tr>\n",
       "    <tr>\n",
       "      <th>1.069040e+10</th>\n",
       "      <td>1538352000</td>\n",
       "      <td>1541030400</td>\n",
       "      <td>128169.0</td>\n",
       "      <td>25418.0</td>\n",
       "      <td>{\"010690402013\":370,\"010690402011\":322,\"010690...</td>\n",
       "      <td>{\"010690402024\":313,\"010690415004\":203,\"010450...</td>\n",
       "      <td>42684.0</td>\n",
       "      <td>[\"Chick-fil-A\",\"Sam's Club\",\"Dollar General\",\"...</td>\n",
       "      <td>[\"walmart\",\"Dollar General\",\"mcdonalds\",\"Marat...</td>\n",
       "      <td>[\"Chick-fil-A\",\"Sam's Club\",\"Olive Garden\",\"mc...</td>\n",
       "      <td>[2121,1828,1784,1704,1861,2373,3730,7497,7093,...</td>\n",
       "      <td>{\"Monday\":21141,\"Tuesday\":21143,\"Wednesday\":17...</td>\n",
       "    </tr>\n",
       "    <tr>\n",
       "      <th>1.073011e+10</th>\n",
       "      <td>1538352000</td>\n",
       "      <td>1541030400</td>\n",
       "      <td>51453.0</td>\n",
       "      <td>9499.0</td>\n",
       "      <td>{\"010090507001\":183,\"010730113021\":167,\"010730...</td>\n",
       "      <td>{\"010730045001\":140,\"010730027001\":123,\"010730...</td>\n",
       "      <td>18878.0</td>\n",
       "      <td>[\"Chevron\",\"Daylight Donuts\",\"walmart\"]</td>\n",
       "      <td>[\"walmart\",\"Chevron\",\"Dollar General\",\"Shell O...</td>\n",
       "      <td>[\"Chevron\",\"CrossFit\"]</td>\n",
       "      <td>[3804,3716,3686,3672,3735,4115,4855,5946,4526,...</td>\n",
       "      <td>{\"Monday\":8402,\"Tuesday\":8414,\"Wednesday\":8550...</td>\n",
       "    </tr>\n",
       "  </tbody>\n",
       "</table>\n",
       "</div>"
      ],
      "text/plain": [
       "                    date_range_start  date_range_end  raw_visit_count  \\\n",
       "census_block_group                                                      \n",
       "1.005951e+10              1538352000      1541030400          75122.0   \n",
       "1.009051e+10              1538352000      1541030400          95649.0   \n",
       "1.047957e+10              1538352000      1541030400          14009.0   \n",
       "1.069040e+10              1538352000      1541030400         128169.0   \n",
       "1.073011e+10              1538352000      1541030400          51453.0   \n",
       "\n",
       "                    raw_visitor_count  \\\n",
       "census_block_group                      \n",
       "1.005951e+10                  18314.0   \n",
       "1.009051e+10                  38942.0   \n",
       "1.047957e+10                   3039.0   \n",
       "1.069040e+10                  25418.0   \n",
       "1.073011e+10                   9499.0   \n",
       "\n",
       "                                                    visitor_home_cbgs  \\\n",
       "census_block_group                                                      \n",
       "1.005951e+10        {\"010059501003\":127,\"010059509001\":111,\"010059...   \n",
       "1.009051e+10        {\"010730113021\":210,\"010090506022\":205,\"010090...   \n",
       "1.047957e+10                    {\"010479567011\":67,\"010479567021\":60}   \n",
       "1.069040e+10        {\"010690402013\":370,\"010690402011\":322,\"010690...   \n",
       "1.073011e+10        {\"010090507001\":183,\"010730113021\":167,\"010730...   \n",
       "\n",
       "                                                    visitor_work_cbgs  \\\n",
       "census_block_group                                                      \n",
       "1.005951e+10        {\"010059501003\":109,\"010810407002\":62,\"0108104...   \n",
       "1.009051e+10        {\"010890111001\":271,\"010730045001\":269,\"010439...   \n",
       "1.047957e+10                                      {\"010479567021\":52}   \n",
       "1.069040e+10        {\"010690402024\":313,\"010690415004\":203,\"010450...   \n",
       "1.073011e+10        {\"010730045001\":140,\"010730027001\":123,\"010730...   \n",
       "\n",
       "                    distance_from_home  \\\n",
       "census_block_group                       \n",
       "1.005951e+10                  194724.0   \n",
       "1.009051e+10                  120587.0   \n",
       "1.047957e+10                   67774.0   \n",
       "1.069040e+10                   42684.0   \n",
       "1.073011e+10                   18878.0   \n",
       "\n",
       "                                               related_same_day_brand  \\\n",
       "census_block_group                                                      \n",
       "1.005951e+10        [\"Chick-fil-A\",\"mcdonalds\",\"Marathon Petroleum...   \n",
       "1.009051e+10        [\"Shell Oil\",\"mcdonalds\",\"Chick-fil-A\",\"Chevron\"]   \n",
       "1.047957e+10                                       [\"Dollar General\"]   \n",
       "1.069040e+10        [\"Chick-fil-A\",\"Sam's Club\",\"Dollar General\",\"...   \n",
       "1.073011e+10                  [\"Chevron\",\"Daylight Donuts\",\"walmart\"]   \n",
       "\n",
       "                                             related_same_month_brand  \\\n",
       "census_block_group                                                      \n",
       "1.005951e+10        [\"walmart\",\"mcdonalds\",\"Dollar General\",\"Chick...   \n",
       "1.009051e+10        [\"walmart\",\"mcdonalds\",\"Shell Oil\",\"Chick-fil-...   \n",
       "1.047957e+10        [\"walmart\",\"Dollar General\",\"mcdonalds\",\"Chevr...   \n",
       "1.069040e+10        [\"walmart\",\"Dollar General\",\"mcdonalds\",\"Marat...   \n",
       "1.073011e+10        [\"walmart\",\"Chevron\",\"Dollar General\",\"Shell O...   \n",
       "\n",
       "                                                           top_brands  \\\n",
       "census_block_group                                                      \n",
       "1.005951e+10             [\"CrossFit\",\"Health Mart\",\"Coldwell Banker\"]   \n",
       "1.009051e+10                                                       []   \n",
       "1.047957e+10                                       [\"Dollar General\"]   \n",
       "1.069040e+10        [\"Chick-fil-A\",\"Sam's Club\",\"Olive Garden\",\"mc...   \n",
       "1.073011e+10                                   [\"Chevron\",\"CrossFit\"]   \n",
       "\n",
       "                                                   popularity_by_hour  \\\n",
       "census_block_group                                                      \n",
       "1.005951e+10        [2617,2457,2403,2519,2646,3007,3886,7566,5508,...   \n",
       "1.009051e+10        [6556,6325,6222,6355,6586,7350,8568,8099,7378,...   \n",
       "1.047957e+10        [807,790,796,786,851,951,1134,1797,1355,1241,1...   \n",
       "1.069040e+10        [2121,1828,1784,1704,1861,2373,3730,7497,7093,...   \n",
       "1.073011e+10        [3804,3716,3686,3672,3735,4115,4855,5946,4526,...   \n",
       "\n",
       "                                                    popularity_by_day  \n",
       "census_block_group                                                     \n",
       "1.005951e+10        {\"Monday\":12000,\"Tuesday\":12224,\"Wednesday\":10...  \n",
       "1.009051e+10        {\"Monday\":12125,\"Tuesday\":12984,\"Wednesday\":12...  \n",
       "1.047957e+10        {\"Monday\":2314,\"Tuesday\":2340,\"Wednesday\":2195...  \n",
       "1.069040e+10        {\"Monday\":21141,\"Tuesday\":21143,\"Wednesday\":17...  \n",
       "1.073011e+10        {\"Monday\":8402,\"Tuesday\":8414,\"Wednesday\":8550...  "
      ]
     },
     "execution_count": 3,
     "metadata": {},
     "output_type": "execute_result"
    }
   ],
   "source": [
    "data_df.head()"
   ]
  },
  {
   "cell_type": "code",
   "execution_count": 6,
   "metadata": {},
   "outputs": [
    {
     "data": {
      "text/plain": [
       "date_range_start              int64\n",
       "date_range_end                int64\n",
       "raw_visit_count             float64\n",
       "raw_visitor_count           float64\n",
       "visitor_home_cbgs            object\n",
       "visitor_work_cbgs            object\n",
       "distance_from_home          float64\n",
       "related_same_day_brand       object\n",
       "related_same_month_brand     object\n",
       "top_brands                   object\n",
       "popularity_by_hour           object\n",
       "popularity_by_day            object\n",
       "dtype: object"
      ]
     },
     "execution_count": 6,
     "metadata": {},
     "output_type": "execute_result"
    }
   ],
   "source": [
    "data_df.dtypes"
   ]
  },
  {
   "cell_type": "code",
   "execution_count": 7,
   "metadata": {},
   "outputs": [
    {
     "data": {
      "text/plain": [
       "(220735, 12)"
      ]
     },
     "execution_count": 7,
     "metadata": {},
     "output_type": "execute_result"
    }
   ],
   "source": [
    "data_df.shape"
   ]
  },
  {
   "cell_type": "code",
   "execution_count": 10,
   "metadata": {
    "scrolled": true
   },
   "outputs": [
    {
     "data": {
      "text/plain": [
       "[]                                                                                                                                                                           35542\n",
       "[\"Dunkin' Donuts\"]                                                                                                                                                            7010\n",
       "[\"starbucks\"]                                                                                                                                                                 4178\n",
       "[\"walmart\"]                                                                                                                                                                   3054\n",
       "[\"mcdonalds\"]                                                                                                                                                                 2911\n",
       "[\"Wawa\"]                                                                                                                                                                      2831\n",
       "[\"7-Eleven US\"]                                                                                                                                                               2403\n",
       "[\"Publix Super Markets\"]                                                                                                                                                      2272\n",
       "[\"QuikTrip\"]                                                                                                                                                                  1812\n",
       "[\"Kroger\"]                                                                                                                                                                    1256\n",
       "[\"Chick-fil-A\"]                                                                                                                                                               1188\n",
       "[\"Chevron\"]                                                                                                                                                                   1058\n",
       "[\"Sheetz\"]                                                                                                                                                                     903\n",
       "[\"Safeway\"]                                                                                                                                                                    854\n",
       "[\"Costco Wholesale Corp.\"]                                                                                                                                                     849\n",
       "[\"Meijer\"]                                                                                                                                                                     843\n",
       "[\"ARCO\"]                                                                                                                                                                       836\n",
       "[\"H-E-B\"]                                                                                                                                                                      786\n",
       "[\"Kwik Trip\"]                                                                                                                                                                  782\n",
       "[\"Circle K Stores\"]                                                                                                                                                            732\n",
       "[\"King Soopers\"]                                                                                                                                                               711\n",
       "[\"Speedway\"]                                                                                                                                                                   621\n",
       "[\"Circle K Stores\",\"QuikTrip\"]                                                                                                                                                 621\n",
       "[\"Shell Oil\"]                                                                                                                                                                  612\n",
       "[\"Dunkin' Donuts\",\"Stop & Shop\"]                                                                                                                                               598\n",
       "[\"Giant Eagle\"]                                                                                                                                                                575\n",
       "[\"Wawa\",\"Dunkin' Donuts\"]                                                                                                                                                      536\n",
       "[\"Family Dollar Stores\"]                                                                                                                                                       496\n",
       "[\"Target\"]                                                                                                                                                                     477\n",
       "[\"mcdonalds\",\"Speedway\"]                                                                                                                                                       473\n",
       "                                                                                                                                                                             ...  \n",
       "[\"starbucks\",\"CVS\",\"Shake Shack\"]                                                                                                                                                1\n",
       "[\"Hy-Vee\",\"mcdonalds\",\"Casey's General Stores\",\"Love's Travel Stops and Country Stores\"]                                                                                         1\n",
       "[\"Baja Fresh\",\"starbucks\",\"Auto Wares\",\"mcdonalds\",\"Kwik Trip\",\"Fresh√´ns\"]                                                                                                      1\n",
       "[\"Dunkin' Donuts\",\"Cinemark Theatres\",\"Sunoco\",\"Dollar Tree\"]                                                                                                                    1\n",
       "[\"Kwik Shop\",\"Dillons Supermarkets\",\"walmart\",\"Sonic\",\"mcdonalds\"]                                                                                                               1\n",
       "[\"walmart\",\"Chick-fil-A\",\"Baymont Inn & Suites\",\"Jack's Family Restaurants\",\"Dollar General\"]                                                                                    1\n",
       "[\"Sheetz\",\"Giant Eagle\",\"Dollar Tree\",\"Eat'n Park\"]                                                                                                                              1\n",
       "[\"SHOP ‚Äôn SAVE Supermarkets\",\"walmart\",\"Dollar General\",\"Sheetz\",\"mcdonalds\",\"Kroger\",\"Wendy's\"]                                                                               1\n",
       "[\"Family Dollar Stores\",\"Chevron\",\"Health Mart\",\"Sinclair Oil\",\"walmart\",\"Maverik\",\"Exxon Mobil\"]                                                                                1\n",
       "[\"walmart\",\"Samurai Sam's Teriyaki Grill\",\"Safeway\",\"Chevron\",\"Habitat for Humanity\",\"mcdonalds\"]                                                                                1\n",
       "[\"Family Dollar Stores\",\"Boys & Girls Clubs of America\",\"walmart\",\"Valero Energy\"]                                                                                               1\n",
       "[\"Sonny‚Äôs Real Pit Bar-B-Q\",\"walmart\",\"Family Dollar Stores\",\"Save-A-Lot (Onex)\",\"Pizza Hut\",\"mcdonalds\",\"AutoZone\",\"Hibbett Sports\",\"Marathon Petroleum\",\"Applebee's\"]        1\n",
       "[\"Target\",\"Plato's Closet\"]                                                                                                                                                      1\n",
       "[\"Hobby Lobby Stores\",\"walmart\",\"Bealls Tx\",\"Sonic\",\"United Supermarkets\",\"Pizza Hut\",\"mcdonalds\",\"Allsup's\",\"Sears\"]                                                            1\n",
       "[\"Chick-fil-A\",\"mcdonalds\",\"walmart\",\"Jack's Family Restaurants\",\"Dollar General\"]                                                                                               1\n",
       "[\"starbucks\",\"Fred Meyer Jewelers\",\"WinCo Foods\",\"Dollar Tree\",\"Fred Meyer\",\"Dutch Bros Coffee\"]                                                                                 1\n",
       "[\"Zumiez\",\"Costco Wholesale Corp.\",\"Petco\"]                                                                                                                                      1\n",
       "[\"mcdonalds\",\"Marathon Petroleum\",\"Owen's Market\",\"BP\"]                                                                                                                          1\n",
       "[\"Dairy Queen\",\"Casey's General Stores\",\"mcdonalds\"]                                                                                                                             1\n",
       "[\"walmart\",\"United Supermarkets\",\"Taco Casa\",\"Whataburger\"]                                                                                                                      1\n",
       "[\"Shell Oil\",\"Health Mart\",\"Dollar General\",\"mcdonalds\"]                                                                                                                         1\n",
       "[\"Kwik Trip\",\"Casey's General Stores\",\"SuperAmerica\",\"Holiday Station\"]                                                                                                          1\n",
       "[\"Casey's General Stores\",\"walmart\",\"SUBWAY\",\"mcdonalds\",\"Dollar General\"]                                                                                                       1\n",
       "[\"Sheetz\",\"Goodwill Industries\",\"mcdonalds\",\"walmart\",\"Ford Motor Company\"]                                                                                                      1\n",
       "[\"walmart\",\"Sonic\",\"Marathon Petroleum\",\"Shell Oil\",\"Dollar General\",\"Hardee's\",\"Exxon Mobil\",\"mcdonalds\",\"Jack's Family Restaurants\",\"Health Mart\"]                             1\n",
       "[\"76\",\"Safeway\",\"Chevron\",\"A&W Restaurants\",\"Taco Bell\"]                                                                                                                         1\n",
       "[\"Marathon Petroleum\",\"Family Dollar Stores\",\"walmart\",\"mcdonalds\",\"United States Postal Service (USPS)\",\"Rural King\"]                                                           1\n",
       "[\"Dollar Tree\",\"Dunkin' Donuts\",\"mcdonalds\",\"walmart\"]                                                                                                                           1\n",
       "[\"mcdonalds\",\"Wawa\",\"Fred Meyer Jewelers\",\"7-Eleven US\",\"Chick-fil-A\",\"Kroger\",\"Navy Exchange\"]                                                                                  1\n",
       "[\"walmart\",\"Big Lots Stores\",\"Chevron\",\"Jack's Family Restaurants\",\"Shell Oil\",\"Chick-fil-A\",\"Sam's Club\",\"Publix Super Markets\"]                                                1\n",
       "Name: related_same_day_brand, Length: 73198, dtype: int64"
      ]
     },
     "execution_count": 10,
     "metadata": {},
     "output_type": "execute_result"
    }
   ],
   "source": [
    "data_df['related_same_day_brand'].value_counts()"
   ]
  },
  {
   "cell_type": "code",
   "execution_count": 11,
   "metadata": {
    "scrolled": true
   },
   "outputs": [
    {
     "data": {
      "text/plain": [
       "[]                                                                                                                                                                              2983\n",
       "[\"SmartStyle Family Hair Salons\"]                                                                                                                                                335\n",
       "[\"Department of Veterans Affairs\"]                                                                                                                                               156\n",
       "[\"H&R Block\"]                                                                                                                                                                    134\n",
       "[\"Sprint\"]                                                                                                                                                                       112\n",
       "[\"MasterCuts\"]                                                                                                                                                                    92\n",
       "[\"Supercuts\"]                                                                                                                                                                     62\n",
       "[\"Dunkin' Donuts\"]                                                                                                                                                                55\n",
       "[\"Safeway\"]                                                                                                                                                                       45\n",
       "[\"Yogen Fr√ºz\"]                                                                                                                                                                   34\n",
       "[\"Yogen Fr√ºz\",\"Department of Veterans Affairs\"]                                                                                                                                  33\n",
       "[\"CVS\",\"SmartStyle Family Hair Salons\"]                                                                                                                                           32\n",
       "[\"Cold Stone Creamery\"]                                                                                                                                                           32\n",
       "[\"H-E-B\",\"Whataburger\",\"walmart\",\"Stripes Convenience Stores\",\"Valero Energy\",\"Exxon Mobil\",\"mcdonalds\",\"Circle K Stores\",\"Sonic\",\"SUBWAY\"]                                       32\n",
       "[\"walmart\",\"Sonic\",\"Phillips 66\",\"mcdonalds\",\"Braum's Ice Cream and Dairy Stores\",\"Chick-fil-A\",\"OnCue\",\"Walgreens\",\"Target\",\"starbucks\"]                                         26\n",
       "[\"Publix Super Markets\"]                                                                                                                                                          25\n",
       "[\"Fresenius Medical Care North America\"]                                                                                                                                          25\n",
       "[\"SUBWAY\"]                                                                                                                                                                        24\n",
       "[\"starbucks\",\"Costco Wholesale Corp.\",\"Chevron\",\"Safeway\",\"Target\",\"Shell Oil\",\"mcdonalds\",\"In-N-Out Burger\",\"SUBWAY\",\"7-Eleven US\"]                                              24\n",
       "[\"Dunkin' Donuts\",\"ShopRite\"]                                                                                                                                                     24\n",
       "[\"starbucks\",\"Safeway\",\"Chevron\",\"Costco Wholesale Corp.\",\"Target\",\"In-N-Out Burger\",\"Shell Oil\",\"mcdonalds\",\"SUBWAY\",\"76\"]                                                       23\n",
       "[\"Wawa\"]                                                                                                                                                                          22\n",
       "[\"Circle K Stores\",\"QuikTrip\",\"walmart\",\"mcdonalds\",\"Fry's Food & Drug Stores\",\"Jack in the Box\",\"Walgreens\",\"SUBWAY\",\"starbucks\",\"Chevron\"]                                      22\n",
       "[\"Sheetz\"]                                                                                                                                                                        21\n",
       "[\"CVS\"]                                                                                                                                                                           21\n",
       "[\"starbucks\",\"Costco Wholesale Corp.\",\"Chevron\",\"Safeway\",\"Target\",\"Shell Oil\",\"In-N-Out Burger\",\"mcdonalds\",\"SUBWAY\",\"7-Eleven US\"]                                              20\n",
       "[\"starbucks\",\"Costco Wholesale Corp.\",\"Target\",\"Chevron\",\"Safeway\",\"mcdonalds\",\"7-Eleven US\",\"In-N-Out Burger\",\"SUBWAY\",\"Shell Oil\"]                                              19\n",
       "[\"starbucks\",\"mcdonalds\",\"ARCO\",\"Chevron\",\"In-N-Out Burger\",\"Target\",\"Jack in the Box\",\"SUBWAY\",\"walmart\",\"7-Eleven US\"]                                                          19\n",
       "[\"Casey's General Stores\"]                                                                                                                                                        19\n",
       "[\"MasterCuts\",\"Little Caesars\"]                                                                                                                                                   19\n",
       "                                                                                                                                                                                ... \n",
       "[\"walmart\",\"Exxon Mobil\",\"BI-LO\",\"Chick-fil-A\",\"mcdonalds\",\"Shell Oil\",\"Dollar General\",\"Publix Super Markets\",\"Bojangles'\",\"Circle K Stores\"]                                     1\n",
       "[\"walmart\",\"QuikTrip\",\"Whataburger\",\"mcdonalds\",\"Jack in the Box\",\"Sonic\",\"Shell Oil\",\"7-Eleven US\",\"Valero Energy\",\"Chick-fil-A\"]                                                 1\n",
       "[\"walmart\",\"Maverik\",\"Sinclair Oil\",\"mcdonalds\",\"Chevron\",\"Smith's Food & Drug Stores\",\"SUBWAY\",\"Associated Food Stores\",\"Wendy's\",\"Arby's\"]                                       1\n",
       "[\"walmart\",\"Sonic\",\"Whataburger\",\"Allsup's\",\"mcdonalds\",\"SUBWAY\",\"Stripes Convenience Stores\",\"H-E-B\",\"Dollar General\",\"Chick-fil-A\"]                                              1\n",
       "[\"Casey's General Stores\",\"walmart\",\"BP\",\"mcdonalds\",\"SUBWAY\",\"Hy-Vee\",\"Dollar General\",\"Culver's\",\"Menard's\",\"Fareway Stores\"]                                                    1\n",
       "[\"Sonic\",\"walmart\",\"Chevron\",\"Dollar General\",\"Popeyes Louisiana Kitchen\",\"United States Postal Service (USPS)\",\"mcdonalds\",\"Shell Oil\",\"Murphy USA\",\"Family Dollar Stores\"]       1\n",
       "[\"walmart\",\"Dollar General\",\"mcdonalds\",\"Shell Oil\",\"Sonic\",\"SUBWAY\",\"Wendy's\",\"Lowe's\",\"Marathon Petroleum\",\"Kroger\"]                                                             1\n",
       "[\"walmart\",\"mcdonalds\",\"Circle K Stores\",\"Shell Oil\",\"Dollar General\",\"Chick-fil-A\",\"Waffle House\",\"SUBWAY\",\"BP\",\"BI-LO\"]                                                          1\n",
       "[\"Sheetz\",\"mcdonalds\",\"walmart\",\"SUBWAY\",\"Exxon Mobil\",\"Shell Oil\",\"Chick-fil-A\",\"7-Eleven US\",\"Sunoco\",\"Dollar Tree\"]                                                             1\n",
       "[\"walmart\",\"QuikTrip\",\"Whataburger\",\"mcdonalds\",\"Kroger\",\"Chick-fil-A\",\"Sonic\",\"starbucks\",\"Walgreens\",\"RaceTrac\"]                                                                 1\n",
       "[\"mcdonalds\",\"walmart\",\"Marathon Petroleum\",\"Kroger\",\"SUBWAY\",\"Taco Bell\",\"Shell Oil\",\"Feeders Supply\",\"Walgreens\",\"Chick-fil-A\"]                                                  1\n",
       "[\"walmart\",\"mcdonalds\",\"ARCO\",\"starbucks\",\"Jack in the Box\",\"Chevron\",\"Carl's Jr.\",\"Costco Wholesale Corp.\",\"SUBWAY\",\"99 Cents Only Stores\"]                                       1\n",
       "[\"mcdonalds\",\"Walgreens\",\"Speedway\",\"walmart\",\"Family Dollar Stores\",\"Dunkin' Donuts\",\"Dollar Tree\",\"Wendy's\",\"Burger King US\",\"White Castle\"]                                     1\n",
       "[\"walmart\",\"SUBWAY\",\"Tesoro\",\"Casey's General Stores\",\"Pilot Travel Centers\",\"mcdonalds\",\"United States Postal Service (USPS)\",\"Holiday Station\",\"Menard's\",\"Shell Oil\"]           1\n",
       "[\"Jack in the Box\",\"ARCO\",\"mcdonalds\",\"starbucks\",\"Stater Bros. Markets\",\"Del Taco\",\"Target\",\"Chevron\",\"In-N-Out Burger\",\"walmart\"]                                                1\n",
       "[\"Meijer\",\"Speedway\",\"mcdonalds\",\"SUBWAY\",\"BIGGBY COFFEE\",\"Marathon Petroleum\",\"Costco Wholesale Corp.\",\"Kroger\",\"Culver's\",\"Taco Bell\"]                                           1\n",
       "[\"mcdonalds\",\"walmart\",\"Dollar General\",\"Speedway\",\"Taco Bell\",\"Kroger\",\"Casey's General Stores\",\"Hobby Lobby Stores\",\"SUBWAY\",\"Wendy's\"]                                          1\n",
       "[\"Circle K Stores\",\"walmart\",\"Fry's Food & Drug Stores\",\"QuikTrip\",\"mcdonalds\",\"Shell Oil\",\"Walgreens\",\"Dollar Tree\",\"Costco Wholesale Corp.\",\"Taco Bell\"]                         1\n",
       "[\"starbucks\",\"Chevron\",\"mcdonalds\",\"Costco Wholesale Corp.\",\"walmart\",\"Target\",\"Safeway\",\"Taco Bell\",\"In-N-Out Burger\",\"ARCO\"]                                                     1\n",
       "[\"Whataburger\",\"H-E-B\",\"Stripes Convenience Stores\",\"walmart\",\"Valero Energy\",\"Sunoco\",\"Circle K Stores\",\"Exxon Mobil\",\"Chick-fil-A\",\"mcdonalds\"]                                  1\n",
       "[\"walmart\",\"mcdonalds\",\"Dollar General\",\"Shell Oil\",\"Chick-fil-A\",\"SUBWAY\",\"Sonic\",\"Cracker Barrel\",\"Taco Bell\",\"Burger King US\"]                                                  1\n",
       "[\"Dunkin' Donuts\",\"starbucks\",\"SUBWAY\",\"Baskin Robbins\",\"mcdonalds\",\"BP\",\"Rite Aid\",\"7-Eleven US\",\"CVS\",\"Burger King US\"]                                                          1\n",
       "[\"Dunkin' Donuts\",\"Hannaford Supermarkets\",\"Irving Oil\",\"Cumberland Farms\",\"Market Basket\",\"mcdonalds\",\"walmart\",\"Mobil\",\"Dollar Tree\",\"The Home Depot\"]                           1\n",
       "[\"starbucks\",\"walmart\",\"Sonic\",\"mcdonalds\",\"Phillips 66\",\"Casey's General Stores\",\"Kwik Shop\",\"Sam's Club\",\"Walgreens\",\"Dillons Supermarkets\"]                                     1\n",
       "[\"Dunkin' Donuts\",\"Stop & Shop\",\"CVS\",\"Cumberland Farms\",\"walmart\",\"Mobil\",\"T.J. Maxx\",\"The Home Depot\",\"mcdonalds\",\"Shell Oil\"]                                                   1\n",
       "[\"H-E-B\",\"walmart\",\"Whataburger\",\"Exxon Mobil\",\"Valero Energy\",\"Shell Oil\",\"Sonic\",\"Boys & Girls Clubs of America\",\"Chick-fil-A\",\"mcdonalds\"]                                      1\n",
       "[\"starbucks\",\"mcdonalds\",\"SUBWAY\",\"ARCO\",\"Chevron\",\"7-Eleven US\",\"Target\",\"In-N-Out Burger\",\"Jack in the Box\",\"Costco Wholesale Corp.\"]                                            1\n",
       "[\"mcdonalds\",\"walmart\",\"Pilot Travel Centers\",\"Dollar General\",\"SUBWAY\",\"Casey's General Stores\",\"Marathon Petroleum\",\"Burger King US\",\"Meijer\",\"Speedway\"]                        1\n",
       "[\"Kwik Trip\",\"walmart\",\"mcdonalds\",\"Hy-Vee\",\"Casey's General Stores\",\"Applebee's\",\"Caribou Coffee\",\"Mayo Clinic Health System\",\"Culver's\",\"Anytime Fitness\"]                       1\n",
       "[\"mcdonalds\",\"Meijer\",\"Shell Oil\",\"SUBWAY\",\"walmart\",\"Auto Wares\",\"Speedway\",\"Marathon Petroleum\",\"BP\",\"Dollar General\"]                                                           1\n",
       "Name: related_same_month_brand, Length: 185558, dtype: int64"
      ]
     },
     "execution_count": 11,
     "metadata": {},
     "output_type": "execute_result"
    }
   ],
   "source": [
    "data_df['related_same_month_brand'].value_counts()"
   ]
  },
  {
   "cell_type": "code",
   "execution_count": 12,
   "metadata": {},
   "outputs": [
    {
     "data": {
      "text/plain": [
       "[]                                                                                                                                                                                                                                      74540\n",
       "[\"United States Postal Service (USPS)\"]                                                                                                                                                                                                  5352\n",
       "[\"Aflac (American Family Life Assurance)\"]                                                                                                                                                                                               1517\n",
       "[\"Dollar General\"]                                                                                                                                                                                                                       1308\n",
       "[\"National Association for the Education of Young Children (NAEYC)\"]                                                                                                                                                                     1071\n",
       "[\"Cricket Wireless\"]                                                                                                                                                                                                                     1036\n",
       "[\"The American Legion\"]                                                                                                                                                                                                                  1011\n",
       "[\"Shell Oil\"]                                                                                                                                                                                                                             794\n",
       "[\"Boys & Girls Clubs of America\"]                                                                                                                                                                                                         712\n",
       "[\"7-Eleven US\"]                                                                                                                                                                                                                           665\n",
       "[\"CITGO Petroleum\"]                                                                                                                                                                                                                       646\n",
       "[\"VFW (Veterans of Foreign Wars)\"]                                                                                                                                                                                                        635\n",
       "[\"Family Dollar Stores\"]                                                                                                                                                                                                                  592\n",
       "[\"Marathon Petroleum\"]                                                                                                                                                                                                                    563\n",
       "[\"BP\"]                                                                                                                                                                                                                                    480\n",
       "[\"Sunoco\"]                                                                                                                                                                                                                                477\n",
       "[\"Chevron\"]                                                                                                                                                                                                                               473\n",
       "[\"United States Postal Service (USPS)\",\"The American Legion\"]                                                                                                                                                                             434\n",
       "[\"Dollar General\",\"United States Postal Service (USPS)\"]                                                                                                                                                                                  398\n",
       "[\"SUBWAY\"]                                                                                                                                                                                                                                387\n",
       "[\"Auto Wares\"]                                                                                                                                                                                                                            384\n",
       "[\"State Farm\"]                                                                                                                                                                                                                            371\n",
       "[\"Exxon Mobil\"]                                                                                                                                                                                                                           365\n",
       "[\"Valero Energy\"]                                                                                                                                                                                                                         363\n",
       "[\"Mobil\"]                                                                                                                                                                                                                                 349\n",
       "[\"Walgreens\"]                                                                                                                                                                                                                             326\n",
       "[\"CrossFit\"]                                                                                                                                                                                                                              301\n",
       "[\"CVS\"]                                                                                                                                                                                                                                   290\n",
       "[\"YMCA\"]                                                                                                                                                                                                                                  255\n",
       "[\"Dunkin' Donuts\"]                                                                                                                                                                                                                        254\n",
       "                                                                                                                                                                                                                                        ...  \n",
       "[\"Chick-fil-A\",\"Walgreens\",\"CVS\",\"Chevrolet\",\"LabCorp\",\"MinuteClinic\"]                                                                                                                                                                      1\n",
       "[\"Dollar General\",\"Pizza Hut\",\"United States Postal Service (USPS)\"]                                                                                                                                                                        1\n",
       "[\"American Job Centers\",\"New York State DMV\",\"Kinney Drugs\",\"Sunoco\",\"Do It Best\",\"Benjamin Moore\"]                                                                                                                                         1\n",
       "[\"Chick-fil-A\",\"Einstein Brothers\",\"Colton's Steakhouse\",\"SUBWAY\",\"Panera Bread\",\"Au Bon Pain\",\"State Farm\",\"Enterprise Rent-A-Car\"]                                                                                                        1\n",
       "[\"mcdonalds\",\"Chevron\",\"KFC US\",\"starbucks\",\"Candlewood Suites\",\"Jimmy John's\",\"American Animal Hospital Association (AAHA)\",\"Navis Pack & Ship\"]                                                                                           1\n",
       "[\"starbucks\",\"Society of St. Vincent de Paul\",\"mcdonalds\",\"Country Inn & Suites By Carlson\",\"Smoothie King\",\"Jack in the Box\",\"Waffle House\",\"SUBWAY\",\"KFC US\",\"Taco Bell\"]                                                                 1\n",
       "[\"AutoZone\",\"BP\",\"Fastenal\",\"Airgas\",\"O'Reilly Auto Parts\",\"Trane\",\"Napa Auto Parts\",\"United Refrigeration\"]                                                                                                                                1\n",
       "[\"Chevron\",\"Taco Bell\",\"Family Dollar Stores\",\"Walgreens\",\"Americas Best Value Inn\",\"Anytime Fitness\",\"Tractor Supply Co.\",\"Enterprise Rent-A-Car\",\"AutoZone\",\"O'Reilly Auto Parts\"]                                                        1\n",
       "[\"Mobil\",\"Circle K Stores\",\"VFW (Veterans of Foreign Wars)\",\"Enterprise Rent-A-Car\"]                                                                                                                                                        1\n",
       "[\"Shell Oil\",\"The Huntington National Bank\",\"Mathnasium\"]                                                                                                                                                                                   1\n",
       "[\"walmart\",\"Hobby Lobby Stores\",\"Hickory Farms\",\"Amigos/Kings Classic\",\"Burger King US\",\"Wendy's\",\"Hallmark Cards\",\"Fresenius Medical Care North America\",\"Arby's\",\"Taco John's\"]                                                           1\n",
       "[\"Pollo Campero\",\"The Counter\"]                                                                                                                                                                                                             1\n",
       "[\"Suzuki Cycles\",\"Buick\",\"Chevrolet\",\"GMC (General Motors Company)\",\"Flooring America\",\"Edward Jones\",\"Auto Wares\"]                                                                                                                         1\n",
       "[\"Ricker's\",\"CBA\"]                                                                                                                                                                                                                          1\n",
       "[\"Dickey's Barbecue Pit\",\"Discount Drug Mart\",\"Kettering Health Network\",\"Donatos Pizzeria\",\"Dairy Queen\",\"Sherwin-Williams\",\"Vision Source\",\"Chase\",\"Domino's Pizza\",\"Fifth Third Bank\"]                                                   1\n",
       "[\"Chick-fil-A\",\"Walgreens\",\"BP\",\"Extra Space Storage\",\"Rent A Wheel\",\"Public Storage\",\"Cricket Wireless\"]                                                                                                                                   1\n",
       "[\"Mobil\",\"CITGO Petroleum\",\"United States Postal Service (USPS)\",\"Charter Communications\",\"National Association for the Education of Young Children (NAEYC)\",\"DaVita\",\"Aflac (American Family Life Assurance)\",\"Union Savings Bank\"]        1\n",
       "[\"Shell Oil\",\"VFW (Veterans of Foreign Wars)\",\"Cricket Wireless\"]                                                                                                                                                                           1\n",
       "[\"walmart\",\"Sam's Club\",\"Lowe's\",\"T.J. Maxx\",\"AMC Entertainment\",\"IMAX\",\"Hobby Lobby Stores\",\"Cheddar's Scratch Kitchen\",\"Wild Wing Cafe\",\"Olive Garden\"]                                                                                   1\n",
       "[\"Carroll Tire\",\"Cricket Wireless\"]                                                                                                                                                                                                         1\n",
       "[\"Shell Oil\",\"Boost Mobile\",\"ConocoPhillips\"]                                                                                                                                                                                               1\n",
       "[\"mcdonalds\",\"Dunkin' Donuts\",\"Dollar Tree\",\"Allstate Insurance\",\"Coldwell Banker\",\"State Farm\"]                                                                                                                                            1\n",
       "[\"CrossFit\",\"Marathon Petroleum\",\"SUBWAY\",\"Circle K Stores\",\"Dollar General\",\"Century 21 Real Estate\"]                                                                                                                                      1\n",
       "[\"Keva Juice\",\"Alphagraphics\",\"Health Mart\"]                                                                                                                                                                                                1\n",
       "[\"CVS\",\"O'Reilly Auto Parts\",\"CHRISTUS Health\",\"DaVita\"]                                                                                                                                                                                    1\n",
       "[\"Rite Aid\",\"Domino's Pizza\"]                                                                                                                                                                                                               1\n",
       "[\"Randstad\",\"Ross Stores\",\"QuikTrip\",\"ULTA Beauty\",\"Famous Footwear\",\"Toyota\",\"Z-Spray\",\"OshKosh B'gosh\",\"Academy Sports + Outdoors\",\"Chevrolet\"]                                                                                           1\n",
       "[\"Jack's Family Restaurants\",\"RaceWay\",\"Vermeer\",\"Chevron\"]                                                                                                                                                                                 1\n",
       "[\"Pilot Travel Centers\",\"Taco Bell\",\"SUBWAY\"]                                                                                                                                                                                               1\n",
       "[\"mcdonalds\",\"Walgreens\",\"LabCorp\",\"Marathon Petroleum\",\"United States Postal Service (USPS)\",\"Edward Jones\"]                                                                                                                               1\n",
       "Name: top_brands, Length: 98086, dtype: int64"
      ]
     },
     "execution_count": 12,
     "metadata": {},
     "output_type": "execute_result"
    }
   ],
   "source": [
    "data_df['top_brands'].value_counts()"
   ]
  },
  {
   "cell_type": "code",
   "execution_count": 13,
   "metadata": {},
   "outputs": [
    {
     "data": {
      "text/html": [
       "<div>\n",
       "<style scoped>\n",
       "    .dataframe tbody tr th:only-of-type {\n",
       "        vertical-align: middle;\n",
       "    }\n",
       "\n",
       "    .dataframe tbody tr th {\n",
       "        vertical-align: top;\n",
       "    }\n",
       "\n",
       "    .dataframe thead th {\n",
       "        text-align: right;\n",
       "    }\n",
       "</style>\n",
       "<table border=\"1\" class=\"dataframe\">\n",
       "  <thead>\n",
       "    <tr style=\"text-align: right;\">\n",
       "      <th></th>\n",
       "      <th>date_range_start</th>\n",
       "      <th>date_range_end</th>\n",
       "      <th>raw_visit_count</th>\n",
       "      <th>raw_visitor_count</th>\n",
       "      <th>distance_from_home</th>\n",
       "    </tr>\n",
       "  </thead>\n",
       "  <tbody>\n",
       "    <tr>\n",
       "      <th>count</th>\n",
       "      <td>2.207350e+05</td>\n",
       "      <td>2.207350e+05</td>\n",
       "      <td>2.206290e+05</td>\n",
       "      <td>2.206290e+05</td>\n",
       "      <td>2.205180e+05</td>\n",
       "    </tr>\n",
       "    <tr>\n",
       "      <th>mean</th>\n",
       "      <td>1.538352e+09</td>\n",
       "      <td>1.541030e+09</td>\n",
       "      <td>4.793066e+04</td>\n",
       "      <td>1.182032e+04</td>\n",
       "      <td>3.511280e+04</td>\n",
       "    </tr>\n",
       "    <tr>\n",
       "      <th>std</th>\n",
       "      <td>0.000000e+00</td>\n",
       "      <td>0.000000e+00</td>\n",
       "      <td>6.252655e+04</td>\n",
       "      <td>3.045832e+04</td>\n",
       "      <td>9.973193e+04</td>\n",
       "    </tr>\n",
       "    <tr>\n",
       "      <th>min</th>\n",
       "      <td>1.538352e+09</td>\n",
       "      <td>1.541030e+09</td>\n",
       "      <td>6.000000e+01</td>\n",
       "      <td>5.000000e+01</td>\n",
       "      <td>7.060000e+02</td>\n",
       "    </tr>\n",
       "    <tr>\n",
       "      <th>25%</th>\n",
       "      <td>1.538352e+09</td>\n",
       "      <td>1.541030e+09</td>\n",
       "      <td>1.704200e+04</td>\n",
       "      <td>3.430000e+03</td>\n",
       "      <td>8.584000e+03</td>\n",
       "    </tr>\n",
       "    <tr>\n",
       "      <th>50%</th>\n",
       "      <td>1.538352e+09</td>\n",
       "      <td>1.541030e+09</td>\n",
       "      <td>3.064000e+04</td>\n",
       "      <td>6.541000e+03</td>\n",
       "      <td>1.461400e+04</td>\n",
       "    </tr>\n",
       "    <tr>\n",
       "      <th>75%</th>\n",
       "      <td>1.538352e+09</td>\n",
       "      <td>1.541030e+09</td>\n",
       "      <td>5.667800e+04</td>\n",
       "      <td>1.309900e+04</td>\n",
       "      <td>3.139775e+04</td>\n",
       "    </tr>\n",
       "    <tr>\n",
       "      <th>max</th>\n",
       "      <td>1.538352e+09</td>\n",
       "      <td>1.541030e+09</td>\n",
       "      <td>7.179900e+06</td>\n",
       "      <td>6.113949e+06</td>\n",
       "      <td>6.297845e+06</td>\n",
       "    </tr>\n",
       "  </tbody>\n",
       "</table>\n",
       "</div>"
      ],
      "text/plain": [
       "       date_range_start  date_range_end  raw_visit_count  raw_visitor_count  \\\n",
       "count      2.207350e+05    2.207350e+05     2.206290e+05       2.206290e+05   \n",
       "mean       1.538352e+09    1.541030e+09     4.793066e+04       1.182032e+04   \n",
       "std        0.000000e+00    0.000000e+00     6.252655e+04       3.045832e+04   \n",
       "min        1.538352e+09    1.541030e+09     6.000000e+01       5.000000e+01   \n",
       "25%        1.538352e+09    1.541030e+09     1.704200e+04       3.430000e+03   \n",
       "50%        1.538352e+09    1.541030e+09     3.064000e+04       6.541000e+03   \n",
       "75%        1.538352e+09    1.541030e+09     5.667800e+04       1.309900e+04   \n",
       "max        1.538352e+09    1.541030e+09     7.179900e+06       6.113949e+06   \n",
       "\n",
       "       distance_from_home  \n",
       "count        2.205180e+05  \n",
       "mean         3.511280e+04  \n",
       "std          9.973193e+04  \n",
       "min          7.060000e+02  \n",
       "25%          8.584000e+03  \n",
       "50%          1.461400e+04  \n",
       "75%          3.139775e+04  \n",
       "max          6.297845e+06  "
      ]
     },
     "execution_count": 13,
     "metadata": {},
     "output_type": "execute_result"
    }
   ],
   "source": [
    "number_data = ['date_range_start','date_range_end','raw_visit_count','raw_visitor_count','distance_from_home']\n",
    "data_df[number_data].describe()"
   ]
  },
  {
   "cell_type": "markdown",
   "metadata": {},
   "source": [
    "## 数据可视化"
   ]
  },
  {
   "cell_type": "code",
   "execution_count": 19,
   "metadata": {},
   "outputs": [
    {
     "data": {
      "text/plain": [
       "<matplotlib.axes._subplots.AxesSubplot at 0x1c30b462860>"
      ]
     },
     "execution_count": 19,
     "metadata": {},
     "output_type": "execute_result"
    },
    {
     "data": {
      "image/png": "[encoded data removed]",
      "text/plain": [
       "<Figure size 432x288 with 1 Axes>"
      ]
     },
     "metadata": {},
     "output_type": "display_data"
    }
   ],
   "source": [
    "data_df['date_range_start'].hist()"
   ]
  },
  {
   "cell_type": "code",
   "execution_count": 15,
   "metadata": {},
   "outputs": [
    {
     "data": {
      "text/plain": [
       "<matplotlib.axes._subplots.AxesSubplot at 0x1c30b2d8d68>"
      ]
     },
     "execution_count": 15,
     "metadata": {},
     "output_type": "execute_result"
    },
    {
     "data": {
      "image/png": "[encoded data removed]",
      "text/plain": [
       "<Figure size 432x288 with 1 Axes>"
      ]
     },
     "metadata": {},
     "output_type": "display_data"
    }
   ],
   "source": [
    "data_df['date_range_end'].hist()"
   ]
  },
  {
   "cell_type": "code",
   "execution_count": 16,
   "metadata": {},
   "outputs": [
    {
     "data": {
      "text/plain": [
       "<matplotlib.axes._subplots.AxesSubplot at 0x1c30b293dd8>"
      ]
     },
     "execution_count": 16,
     "metadata": {},
     "output_type": "execute_result"
    },
    {
     "data": {
      "image/png": "[encoded data removed]",
      "text/plain": [
       "<Figure size 432x288 with 1 Axes>"
      ]
     },
     "metadata": {},
     "output_type": "display_data"
    }
   ],
   "source": [
    "data_df['raw_visit_count'].hist()"
   ]
  },
  {
   "cell_type": "code",
   "execution_count": 17,
   "metadata": {},
   "outputs": [
    {
     "data": {
      "text/plain": [
       "<matplotlib.axes._subplots.AxesSubplot at 0x1c30b01f9b0>"
      ]
     },
     "execution_count": 17,
     "metadata": {},
     "output_type": "execute_result"
    },
    {
     "data": {
      "image/png": "[encoded data removed]",
      "text/plain": [
       "<Figure size 432x288 with 1 Axes>"
      ]
     },
     "metadata": {},
     "output_type": "display_data"
    }
   ],
   "source": [
    "data_df['raw_visitor_count'].hist()"
   ]
  },
  {
   "cell_type": "code",
   "execution_count": 18,
   "metadata": {},
   "outputs": [
    {
     "data": {
      "text/plain": [
       "<matplotlib.axes._subplots.AxesSubplot at 0x1c30b2bd278>"
      ]
     },
     "execution_count": 18,
     "metadata": {},
     "output_type": "execute_result"
    },
    {
     "data": {
      "image/png": "[encoded data removed]",
      "text/plain": [
       "<Figure size 432x288 with 1 Axes>"
      ]
     },
     "metadata": {},
     "output_type": "display_data"
    }
   ],
   "source": [
    "data_df['distance_from_home'].hist()"
   ]
  },
  {
   "cell_type": "code",
   "execution_count": 22,
   "metadata": {},
   "outputs": [],
   "source": [
    "import matplotlib.pyplot as plt\n",
    "import seaborn as sns\n",
    "def plot_feature_distribution(df, features):\n",
    "    i = 0\n",
    "    sns.set_style('whitegrid')\n",
    "    plt.figure()\n",
    "    fig, ax = plt.subplots(1,5,figsize=(18,6))\n",
    "\n",
    "    for feature in features:\n",
    "        i += 1\n",
    "        plt.subplot(1,5,i)\n",
    "        sns.kdeplot(df[feature], bw=0.5,label=feature)\n",
    "        plt.xlabel(feature, fontsize=9)\n",
    "        locs, labels = plt.xticks()\n",
    "        plt.tick_params(axis='x', which='major', labelsize=6, pad=-6)\n",
    "        plt.tick_params(axis='y', which='major', labelsize=6)\n",
    "    plt.show();"
   ]
  },
  {
   "cell_type": "code",
   "execution_count": 23,
   "metadata": {},
   "outputs": [
    {
     "name": "stderr",
     "output_type": "stream",
     "text": [
      "C:\\ProgramData\\Anaconda3\\lib\\site-packages\\statsmodels\\nonparametric\\kde.py:448: RuntimeWarning: invalid value encountered in greater\n",
      "  X = X[np.logical_and(X > clip[0], X < clip[1])] # won't work for two columns.\n",
      "C:\\ProgramData\\Anaconda3\\lib\\site-packages\\statsmodels\\nonparametric\\kde.py:448: RuntimeWarning: invalid value encountered in less\n",
      "  X = X[np.logical_and(X > clip[0], X < clip[1])] # won't work for two columns.\n"
     ]
    },
    {
     "data": {
      "text/plain": [
       "<Figure size 432x288 with 0 Axes>"
      ]
     },
     "metadata": {},
     "output_type": "display_data"
    },
    {
     "data": {
      "image/png": "[encoded data removed]",
      "text/plain": [
       "<Figure size 1296x432 with 5 Axes>"
      ]
     },
     "metadata": {},
     "output_type": "display_data"
    }
   ],
   "source": [
    "features = ['date_range_start','date_range_end','raw_visit_count','raw_visitor_count','distance_from_home']\n",
    "plot_feature_distribution(data_df, features)"
   ]
  },
  {
   "cell_type": "code",
   "execution_count": 24,
   "metadata": {},
   "outputs": [
    {
     "data": {
      "image/png": "[encoded data removed]",
      "text/plain": [
       "<Figure size 432x288 with 1 Axes>"
      ]
     },
     "metadata": {},
     "output_type": "display_data"
    }
   ],
   "source": [
    "import statsmodels.api as sm\n",
    "import pylab\n",
    "\n",
    "sm.qqplot(data_df['date_range_start'], line='s')\n",
    "pylab.show()"
   ]
  },
  {
   "cell_type": "code",
   "execution_count": 25,
   "metadata": {},
   "outputs": [
    {
     "data": {
      "image/png": "[encoded data removed]",
      "text/plain": [
       "<Figure size 432x288 with 1 Axes>"
      ]
     },
     "metadata": {},
     "output_type": "display_data"
    }
   ],
   "source": [
    "sm.qqplot(data_df['date_range_end'], line='s')\n",
    "pylab.show()"
   ]
  },
  {
   "cell_type": "code",
   "execution_count": 26,
   "metadata": {},
   "outputs": [
    {
     "data": {
      "image/png": "[encoded data removed]",
      "text/plain": [
       "<Figure size 432x288 with 1 Axes>"
      ]
     },
     "metadata": {},
     "output_type": "display_data"
    }
   ],
   "source": [
    "sm.qqplot(data_df['raw_visit_count'], line='s')\n",
    "pylab.show()"
   ]
  },
  {
   "cell_type": "code",
   "execution_count": 27,
   "metadata": {},
   "outputs": [
    {
     "data": {
      "image/png": "[encoded data removed]",
      "text/plain": [
       "<Figure size 432x288 with 1 Axes>"
      ]
     },
     "metadata": {},
     "output_type": "display_data"
    }
   ],
   "source": [
    "sm.qqplot(data_df['raw_visitor_count'], line='s')\n",
    "pylab.show()"
   ]
  },
  {
   "cell_type": "code",
   "execution_count": 28,
   "metadata": {},
   "outputs": [
    {
     "data": {
      "image/png": "[encoded data removed]",
      "text/plain": [
       "<Figure size 432x288 with 1 Axes>"
      ]
     },
     "metadata": {},
     "output_type": "display_data"
    }
   ],
   "source": [
    "sm.qqplot(data_df['distance_from_home'], line='s')\n",
    "pylab.show()"
   ]
  },
  {
   "cell_type": "code",
   "execution_count": 29,
   "metadata": {},
   "outputs": [
    {
     "data": {
      "image/png": "[encoded data removed]",
      "text/plain": [
       "<Figure size 432x288 with 1 Axes>"
      ]
     },
     "metadata": {},
     "output_type": "display_data"
    }
   ],
   "source": [
    "import matplotlib.pyplot as plt\n",
    "\n",
    "data_df['date_range_start'].plot(kind='box', notch=True, grid=True)\n",
    "plt.show()"
   ]
  },
  {
   "cell_type": "code",
   "execution_count": 30,
   "metadata": {},
   "outputs": [
    {
     "data": {
      "image/png": "[encoded data removed]",
      "text/plain": [
       "<Figure size 432x288 with 1 Axes>"
      ]
     },
     "metadata": {},
     "output_type": "display_data"
    }
   ],
   "source": [
    "data_df['date_range_end'].plot(kind='box', notch=True, grid=True)\n",
    "plt.show()"
   ]
  },
  {
   "cell_type": "code",
   "execution_count": 31,
   "metadata": {},
   "outputs": [
    {
     "data": {
      "image/png": "[encoded data removed]",
      "text/plain": [
       "<Figure size 432x288 with 1 Axes>"
      ]
     },
     "metadata": {},
     "output_type": "display_data"
    }
   ],
   "source": [
    "data_df['raw_visit_count'].plot(kind='box', notch=True, grid=True)\n",
    "plt.show()"
   ]
  },
  {
   "cell_type": "code",
   "execution_count": 32,
   "metadata": {},
   "outputs": [
    {
     "data": {
      "image/png": "[encoded data removed]",
      "text/plain": [
       "<Figure size 432x288 with 1 Axes>"
      ]
     },
     "metadata": {},
     "output_type": "display_data"
    }
   ],
   "source": [
    "data_df['raw_visitor_count'].plot(kind='box', notch=True, grid=True)\n",
    "plt.show()"
   ]
  },
  {
   "cell_type": "code",
   "execution_count": 33,
   "metadata": {},
   "outputs": [
    {
     "data": {
      "image/png": "[encoded data removed]",
      "text/plain": [
       "<Figure size 432x288 with 1 Axes>"
      ]
     },
     "metadata": {},
     "output_type": "display_data"
    }
   ],
   "source": [
    "data_df['distance_from_home'].plot(kind='box', notch=True, grid=True)\n",
    "plt.show()"
   ]
  },
  {
   "cell_type": "markdown",
   "metadata": {},
   "source": [
    "## 数据缺失处理"
   ]
  },
  {
   "cell_type": "code",
   "execution_count": 34,
   "metadata": {},
   "outputs": [],
   "source": [
    "def missing_data(data):\n",
    "    total = data.isnull().sum()\n",
    "    percent = (data.isnull().sum()/data.isnull().count()*100)\n",
    "    tt = pd.concat([total, percent], axis=1, keys=['Total', 'Percent'])\n",
    "    types = []\n",
    "    for col in data.columns:\n",
    "        dtype = str(data[col].dtype)\n",
    "        types.append(dtype)\n",
    "    tt['Types'] = types\n",
    "    return(np.transpose(tt))"
   ]
  },
  {
   "cell_type": "code",
   "execution_count": 35,
   "metadata": {},
   "outputs": [
    {
     "name": "stdout",
     "output_type": "stream",
     "text": [
      "Wall time: 634 ms\n"
     ]
    },
    {
     "data": {
      "text/html": [
       "<div>\n",
       "<style scoped>\n",
       "    .dataframe tbody tr th:only-of-type {\n",
       "        vertical-align: middle;\n",
       "    }\n",
       "\n",
       "    .dataframe tbody tr th {\n",
       "        vertical-align: top;\n",
       "    }\n",
       "\n",
       "    .dataframe thead th {\n",
       "        text-align: right;\n",
       "    }\n",
       "</style>\n",
       "<table border=\"1\" class=\"dataframe\">\n",
       "  <thead>\n",
       "    <tr style=\"text-align: right;\">\n",
       "      <th></th>\n",
       "      <th>date_range_start</th>\n",
       "      <th>date_range_end</th>\n",
       "      <th>raw_visit_count</th>\n",
       "      <th>raw_visitor_count</th>\n",
       "      <th>visitor_home_cbgs</th>\n",
       "      <th>visitor_work_cbgs</th>\n",
       "      <th>distance_from_home</th>\n",
       "      <th>related_same_day_brand</th>\n",
       "      <th>related_same_month_brand</th>\n",
       "      <th>top_brands</th>\n",
       "      <th>popularity_by_hour</th>\n",
       "      <th>popularity_by_day</th>\n",
       "    </tr>\n",
       "  </thead>\n",
       "  <tbody>\n",
       "    <tr>\n",
       "      <th>Total</th>\n",
       "      <td>0</td>\n",
       "      <td>0</td>\n",
       "      <td>106</td>\n",
       "      <td>106</td>\n",
       "      <td>0</td>\n",
       "      <td>0</td>\n",
       "      <td>217</td>\n",
       "      <td>0</td>\n",
       "      <td>0</td>\n",
       "      <td>0</td>\n",
       "      <td>0</td>\n",
       "      <td>0</td>\n",
       "    </tr>\n",
       "    <tr>\n",
       "      <th>Percent</th>\n",
       "      <td>0</td>\n",
       "      <td>0</td>\n",
       "      <td>0.0480214</td>\n",
       "      <td>0.0480214</td>\n",
       "      <td>0</td>\n",
       "      <td>0</td>\n",
       "      <td>0.0983079</td>\n",
       "      <td>0</td>\n",
       "      <td>0</td>\n",
       "      <td>0</td>\n",
       "      <td>0</td>\n",
       "      <td>0</td>\n",
       "    </tr>\n",
       "    <tr>\n",
       "      <th>Types</th>\n",
       "      <td>int64</td>\n",
       "      <td>int64</td>\n",
       "      <td>float64</td>\n",
       "      <td>float64</td>\n",
       "      <td>object</td>\n",
       "      <td>object</td>\n",
       "      <td>float64</td>\n",
       "      <td>object</td>\n",
       "      <td>object</td>\n",
       "      <td>object</td>\n",
       "      <td>object</td>\n",
       "      <td>object</td>\n",
       "    </tr>\n",
       "  </tbody>\n",
       "</table>\n",
       "</div>"
      ],
      "text/plain": [
       "        date_range_start date_range_end raw_visit_count raw_visitor_count  \\\n",
       "Total                  0              0             106               106   \n",
       "Percent                0              0       0.0480214         0.0480214   \n",
       "Types              int64          int64         float64           float64   \n",
       "\n",
       "        visitor_home_cbgs visitor_work_cbgs distance_from_home  \\\n",
       "Total                   0                 0                217   \n",
       "Percent                 0                 0          0.0983079   \n",
       "Types              object            object            float64   \n",
       "\n",
       "        related_same_day_brand related_same_month_brand top_brands  \\\n",
       "Total                        0                        0          0   \n",
       "Percent                      0                        0          0   \n",
       "Types                   object                   object     object   \n",
       "\n",
       "        popularity_by_hour popularity_by_day  \n",
       "Total                    0                 0  \n",
       "Percent                  0                 0  \n",
       "Types               object            object  "
      ]
     },
     "execution_count": 35,
     "metadata": {},
     "output_type": "execute_result"
    }
   ],
   "source": [
    "%%time\n",
    "missing_data(data_df)"
   ]
  },
  {
   "cell_type": "markdown",
   "metadata": {},
   "source": [
    "### 直接删除含缺失值数据"
   ]
  },
  {
   "cell_type": "code",
   "execution_count": 36,
   "metadata": {
    "scrolled": true
   },
   "outputs": [],
   "source": [
    "del_df = data_df.dropna()"
   ]
  },
  {
   "cell_type": "code",
   "execution_count": 37,
   "metadata": {},
   "outputs": [
    {
     "data": {
      "text/plain": [
       "(220518, 12)"
      ]
     },
     "execution_count": 37,
     "metadata": {},
     "output_type": "execute_result"
    }
   ],
   "source": [
    "del_df.shape"
   ]
  },
  {
   "cell_type": "code",
   "execution_count": 38,
   "metadata": {
    "scrolled": false
   },
   "outputs": [
    {
     "data": {
      "text/html": [
       "<div>\n",
       "<style scoped>\n",
       "    .dataframe tbody tr th:only-of-type {\n",
       "        vertical-align: middle;\n",
       "    }\n",
       "\n",
       "    .dataframe tbody tr th {\n",
       "        vertical-align: top;\n",
       "    }\n",
       "\n",
       "    .dataframe thead th {\n",
       "        text-align: right;\n",
       "    }\n",
       "</style>\n",
       "<table border=\"1\" class=\"dataframe\">\n",
       "  <thead>\n",
       "    <tr style=\"text-align: right;\">\n",
       "      <th></th>\n",
       "      <th>date_range_start</th>\n",
       "      <th>date_range_end</th>\n",
       "      <th>raw_visit_count</th>\n",
       "      <th>raw_visitor_count</th>\n",
       "      <th>visitor_home_cbgs</th>\n",
       "      <th>visitor_work_cbgs</th>\n",
       "      <th>distance_from_home</th>\n",
       "      <th>related_same_day_brand</th>\n",
       "      <th>related_same_month_brand</th>\n",
       "      <th>top_brands</th>\n",
       "      <th>popularity_by_hour</th>\n",
       "      <th>popularity_by_day</th>\n",
       "    </tr>\n",
       "    <tr>\n",
       "      <th>census_block_group</th>\n",
       "      <th></th>\n",
       "      <th></th>\n",
       "      <th></th>\n",
       "      <th></th>\n",
       "      <th></th>\n",
       "      <th></th>\n",
       "      <th></th>\n",
       "      <th></th>\n",
       "      <th></th>\n",
       "      <th></th>\n",
       "      <th></th>\n",
       "      <th></th>\n",
       "    </tr>\n",
       "  </thead>\n",
       "  <tbody>\n",
       "    <tr>\n",
       "      <th>1.005951e+10</th>\n",
       "      <td>1538352000</td>\n",
       "      <td>1541030400</td>\n",
       "      <td>75122.0</td>\n",
       "      <td>18314.0</td>\n",
       "      <td>{\"010059501003\":127,\"010059509001\":111,\"010059...</td>\n",
       "      <td>{\"010059501003\":109,\"010810407002\":62,\"0108104...</td>\n",
       "      <td>194724.0</td>\n",
       "      <td>[\"Chick-fil-A\",\"mcdonalds\",\"Marathon Petroleum...</td>\n",
       "      <td>[\"walmart\",\"mcdonalds\",\"Dollar General\",\"Chick...</td>\n",
       "      <td>[\"CrossFit\",\"Health Mart\",\"Coldwell Banker\"]</td>\n",
       "      <td>[2617,2457,2403,2519,2646,3007,3886,7566,5508,...</td>\n",
       "      <td>{\"Monday\":12000,\"Tuesday\":12224,\"Wednesday\":10...</td>\n",
       "    </tr>\n",
       "    <tr>\n",
       "      <th>1.009051e+10</th>\n",
       "      <td>1538352000</td>\n",
       "      <td>1541030400</td>\n",
       "      <td>95649.0</td>\n",
       "      <td>38942.0</td>\n",
       "      <td>{\"010730113021\":210,\"010090506022\":205,\"010090...</td>\n",
       "      <td>{\"010890111001\":271,\"010730045001\":269,\"010439...</td>\n",
       "      <td>120587.0</td>\n",
       "      <td>[\"Shell Oil\",\"mcdonalds\",\"Chick-fil-A\",\"Chevron\"]</td>\n",
       "      <td>[\"walmart\",\"mcdonalds\",\"Shell Oil\",\"Chick-fil-...</td>\n",
       "      <td>[]</td>\n",
       "      <td>[6556,6325,6222,6355,6586,7350,8568,8099,7378,...</td>\n",
       "      <td>{\"Monday\":12125,\"Tuesday\":12984,\"Wednesday\":12...</td>\n",
       "    </tr>\n",
       "    <tr>\n",
       "      <th>1.047957e+10</th>\n",
       "      <td>1538352000</td>\n",
       "      <td>1541030400</td>\n",
       "      <td>14009.0</td>\n",
       "      <td>3039.0</td>\n",
       "      <td>{\"010479567011\":67,\"010479567021\":60}</td>\n",
       "      <td>{\"010479567021\":52}</td>\n",
       "      <td>67774.0</td>\n",
       "      <td>[\"Dollar General\"]</td>\n",
       "      <td>[\"walmart\",\"Dollar General\",\"mcdonalds\",\"Chevr...</td>\n",
       "      <td>[\"Dollar General\"]</td>\n",
       "      <td>[807,790,796,786,851,951,1134,1797,1355,1241,1...</td>\n",
       "      <td>{\"Monday\":2314,\"Tuesday\":2340,\"Wednesday\":2195...</td>\n",
       "    </tr>\n",
       "    <tr>\n",
       "      <th>1.069040e+10</th>\n",
       "      <td>1538352000</td>\n",
       "      <td>1541030400</td>\n",
       "      <td>128169.0</td>\n",
       "      <td>25418.0</td>\n",
       "      <td>{\"010690402013\":370,\"010690402011\":322,\"010690...</td>\n",
       "      <td>{\"010690402024\":313,\"010690415004\":203,\"010450...</td>\n",
       "      <td>42684.0</td>\n",
       "      <td>[\"Chick-fil-A\",\"Sam's Club\",\"Dollar General\",\"...</td>\n",
       "      <td>[\"walmart\",\"Dollar General\",\"mcdonalds\",\"Marat...</td>\n",
       "      <td>[\"Chick-fil-A\",\"Sam's Club\",\"Olive Garden\",\"mc...</td>\n",
       "      <td>[2121,1828,1784,1704,1861,2373,3730,7497,7093,...</td>\n",
       "      <td>{\"Monday\":21141,\"Tuesday\":21143,\"Wednesday\":17...</td>\n",
       "    </tr>\n",
       "    <tr>\n",
       "      <th>1.073011e+10</th>\n",
       "      <td>1538352000</td>\n",
       "      <td>1541030400</td>\n",
       "      <td>51453.0</td>\n",
       "      <td>9499.0</td>\n",
       "      <td>{\"010090507001\":183,\"010730113021\":167,\"010730...</td>\n",
       "      <td>{\"010730045001\":140,\"010730027001\":123,\"010730...</td>\n",
       "      <td>18878.0</td>\n",
       "      <td>[\"Chevron\",\"Daylight Donuts\",\"walmart\"]</td>\n",
       "      <td>[\"walmart\",\"Chevron\",\"Dollar General\",\"Shell O...</td>\n",
       "      <td>[\"Chevron\",\"CrossFit\"]</td>\n",
       "      <td>[3804,3716,3686,3672,3735,4115,4855,5946,4526,...</td>\n",
       "      <td>{\"Monday\":8402,\"Tuesday\":8414,\"Wednesday\":8550...</td>\n",
       "    </tr>\n",
       "  </tbody>\n",
       "</table>\n",
       "</div>"
      ],
      "text/plain": [
       "                    date_range_start  date_range_end  raw_visit_count  \\\n",
       "census_block_group                                                      \n",
       "1.005951e+10              1538352000      1541030400          75122.0   \n",
       "1.009051e+10              1538352000      1541030400          95649.0   \n",
       "1.047957e+10              1538352000      1541030400          14009.0   \n",
       "1.069040e+10              1538352000      1541030400         128169.0   \n",
       "1.073011e+10              1538352000      1541030400          51453.0   \n",
       "\n",
       "                    raw_visitor_count  \\\n",
       "census_block_group                      \n",
       "1.005951e+10                  18314.0   \n",
       "1.009051e+10                  38942.0   \n",
       "1.047957e+10                   3039.0   \n",
       "1.069040e+10                  25418.0   \n",
       "1.073011e+10                   9499.0   \n",
       "\n",
       "                                                    visitor_home_cbgs  \\\n",
       "census_block_group                                                      \n",
       "1.005951e+10        {\"010059501003\":127,\"010059509001\":111,\"010059...   \n",
       "1.009051e+10        {\"010730113021\":210,\"010090506022\":205,\"010090...   \n",
       "1.047957e+10                    {\"010479567011\":67,\"010479567021\":60}   \n",
       "1.069040e+10        {\"010690402013\":370,\"010690402011\":322,\"010690...   \n",
       "1.073011e+10        {\"010090507001\":183,\"010730113021\":167,\"010730...   \n",
       "\n",
       "                                                    visitor_work_cbgs  \\\n",
       "census_block_group                                                      \n",
       "1.005951e+10        {\"010059501003\":109,\"010810407002\":62,\"0108104...   \n",
       "1.009051e+10        {\"010890111001\":271,\"010730045001\":269,\"010439...   \n",
       "1.047957e+10                                      {\"010479567021\":52}   \n",
       "1.069040e+10        {\"010690402024\":313,\"010690415004\":203,\"010450...   \n",
       "1.073011e+10        {\"010730045001\":140,\"010730027001\":123,\"010730...   \n",
       "\n",
       "                    distance_from_home  \\\n",
       "census_block_group                       \n",
       "1.005951e+10                  194724.0   \n",
       "1.009051e+10                  120587.0   \n",
       "1.047957e+10                   67774.0   \n",
       "1.069040e+10                   42684.0   \n",
       "1.073011e+10                   18878.0   \n",
       "\n",
       "                                               related_same_day_brand  \\\n",
       "census_block_group                                                      \n",
       "1.005951e+10        [\"Chick-fil-A\",\"mcdonalds\",\"Marathon Petroleum...   \n",
       "1.009051e+10        [\"Shell Oil\",\"mcdonalds\",\"Chick-fil-A\",\"Chevron\"]   \n",
       "1.047957e+10                                       [\"Dollar General\"]   \n",
       "1.069040e+10        [\"Chick-fil-A\",\"Sam's Club\",\"Dollar General\",\"...   \n",
       "1.073011e+10                  [\"Chevron\",\"Daylight Donuts\",\"walmart\"]   \n",
       "\n",
       "                                             related_same_month_brand  \\\n",
       "census_block_group                                                      \n",
       "1.005951e+10        [\"walmart\",\"mcdonalds\",\"Dollar General\",\"Chick...   \n",
       "1.009051e+10        [\"walmart\",\"mcdonalds\",\"Shell Oil\",\"Chick-fil-...   \n",
       "1.047957e+10        [\"walmart\",\"Dollar General\",\"mcdonalds\",\"Chevr...   \n",
       "1.069040e+10        [\"walmart\",\"Dollar General\",\"mcdonalds\",\"Marat...   \n",
       "1.073011e+10        [\"walmart\",\"Chevron\",\"Dollar General\",\"Shell O...   \n",
       "\n",
       "                                                           top_brands  \\\n",
       "census_block_group                                                      \n",
       "1.005951e+10             [\"CrossFit\",\"Health Mart\",\"Coldwell Banker\"]   \n",
       "1.009051e+10                                                       []   \n",
       "1.047957e+10                                       [\"Dollar General\"]   \n",
       "1.069040e+10        [\"Chick-fil-A\",\"Sam's Club\",\"Olive Garden\",\"mc...   \n",
       "1.073011e+10                                   [\"Chevron\",\"CrossFit\"]   \n",
       "\n",
       "                                                   popularity_by_hour  \\\n",
       "census_block_group                                                      \n",
       "1.005951e+10        [2617,2457,2403,2519,2646,3007,3886,7566,5508,...   \n",
       "1.009051e+10        [6556,6325,6222,6355,6586,7350,8568,8099,7378,...   \n",
       "1.047957e+10        [807,790,796,786,851,951,1134,1797,1355,1241,1...   \n",
       "1.069040e+10        [2121,1828,1784,1704,1861,2373,3730,7497,7093,...   \n",
       "1.073011e+10        [3804,3716,3686,3672,3735,4115,4855,5946,4526,...   \n",
       "\n",
       "                                                    popularity_by_day  \n",
       "census_block_group                                                     \n",
       "1.005951e+10        {\"Monday\":12000,\"Tuesday\":12224,\"Wednesday\":10...  \n",
       "1.009051e+10        {\"Monday\":12125,\"Tuesday\":12984,\"Wednesday\":12...  \n",
       "1.047957e+10        {\"Monday\":2314,\"Tuesday\":2340,\"Wednesday\":2195...  \n",
       "1.069040e+10        {\"Monday\":21141,\"Tuesday\":21143,\"Wednesday\":17...  \n",
       "1.073011e+10        {\"Monday\":8402,\"Tuesday\":8414,\"Wednesday\":8550...  "
      ]
     },
     "execution_count": 38,
     "metadata": {},
     "output_type": "execute_result"
    }
   ],
   "source": [
    "del_df.head()"
   ]
  },
  {
   "cell_type": "markdown",
   "metadata": {},
   "source": [
    "### 用最高频率值填充"
   ]
  },
  {
   "cell_type": "code",
   "execution_count": 40,
   "metadata": {},
   "outputs": [
    {
     "name": "stdout",
     "output_type": "stream",
     "text": [
      "24531.0 <class 'float'>\n",
      "2292.0 <class 'float'>\n",
      "8345.0 <class 'float'>\n"
     ]
    },
    {
     "data": {
      "text/html": [
       "<div>\n",
       "<style scoped>\n",
       "    .dataframe tbody tr th:only-of-type {\n",
       "        vertical-align: middle;\n",
       "    }\n",
       "\n",
       "    .dataframe tbody tr th {\n",
       "        vertical-align: top;\n",
       "    }\n",
       "\n",
       "    .dataframe thead th {\n",
       "        text-align: right;\n",
       "    }\n",
       "</style>\n",
       "<table border=\"1\" class=\"dataframe\">\n",
       "  <thead>\n",
       "    <tr style=\"text-align: right;\">\n",
       "      <th></th>\n",
       "      <th>date_range_start</th>\n",
       "      <th>date_range_end</th>\n",
       "      <th>raw_visit_count</th>\n",
       "      <th>raw_visitor_count</th>\n",
       "      <th>visitor_home_cbgs</th>\n",
       "      <th>visitor_work_cbgs</th>\n",
       "      <th>distance_from_home</th>\n",
       "      <th>related_same_day_brand</th>\n",
       "      <th>related_same_month_brand</th>\n",
       "      <th>top_brands</th>\n",
       "      <th>popularity_by_hour</th>\n",
       "      <th>popularity_by_day</th>\n",
       "    </tr>\n",
       "    <tr>\n",
       "      <th>census_block_group</th>\n",
       "      <th></th>\n",
       "      <th></th>\n",
       "      <th></th>\n",
       "      <th></th>\n",
       "      <th></th>\n",
       "      <th></th>\n",
       "      <th></th>\n",
       "      <th></th>\n",
       "      <th></th>\n",
       "      <th></th>\n",
       "      <th></th>\n",
       "      <th></th>\n",
       "    </tr>\n",
       "  </thead>\n",
       "  <tbody>\n",
       "    <tr>\n",
       "      <th>1.005951e+10</th>\n",
       "      <td>1538352000</td>\n",
       "      <td>1541030400</td>\n",
       "      <td>75122.0</td>\n",
       "      <td>18314.0</td>\n",
       "      <td>{\"010059501003\":127,\"010059509001\":111,\"010059...</td>\n",
       "      <td>{\"010059501003\":109,\"010810407002\":62,\"0108104...</td>\n",
       "      <td>194724.0</td>\n",
       "      <td>[\"Chick-fil-A\",\"mcdonalds\",\"Marathon Petroleum...</td>\n",
       "      <td>[\"walmart\",\"mcdonalds\",\"Dollar General\",\"Chick...</td>\n",
       "      <td>[\"CrossFit\",\"Health Mart\",\"Coldwell Banker\"]</td>\n",
       "      <td>[2617,2457,2403,2519,2646,3007,3886,7566,5508,...</td>\n",
       "      <td>{\"Monday\":12000,\"Tuesday\":12224,\"Wednesday\":10...</td>\n",
       "    </tr>\n",
       "    <tr>\n",
       "      <th>1.009051e+10</th>\n",
       "      <td>1538352000</td>\n",
       "      <td>1541030400</td>\n",
       "      <td>95649.0</td>\n",
       "      <td>38942.0</td>\n",
       "      <td>{\"010730113021\":210,\"010090506022\":205,\"010090...</td>\n",
       "      <td>{\"010890111001\":271,\"010730045001\":269,\"010439...</td>\n",
       "      <td>120587.0</td>\n",
       "      <td>[\"Shell Oil\",\"mcdonalds\",\"Chick-fil-A\",\"Chevron\"]</td>\n",
       "      <td>[\"walmart\",\"mcdonalds\",\"Shell Oil\",\"Chick-fil-...</td>\n",
       "      <td>[]</td>\n",
       "      <td>[6556,6325,6222,6355,6586,7350,8568,8099,7378,...</td>\n",
       "      <td>{\"Monday\":12125,\"Tuesday\":12984,\"Wednesday\":12...</td>\n",
       "    </tr>\n",
       "    <tr>\n",
       "      <th>1.047957e+10</th>\n",
       "      <td>1538352000</td>\n",
       "      <td>1541030400</td>\n",
       "      <td>14009.0</td>\n",
       "      <td>3039.0</td>\n",
       "      <td>{\"010479567011\":67,\"010479567021\":60}</td>\n",
       "      <td>{\"010479567021\":52}</td>\n",
       "      <td>67774.0</td>\n",
       "      <td>[\"Dollar General\"]</td>\n",
       "      <td>[\"walmart\",\"Dollar General\",\"mcdonalds\",\"Chevr...</td>\n",
       "      <td>[\"Dollar General\"]</td>\n",
       "      <td>[807,790,796,786,851,951,1134,1797,1355,1241,1...</td>\n",
       "      <td>{\"Monday\":2314,\"Tuesday\":2340,\"Wednesday\":2195...</td>\n",
       "    </tr>\n",
       "    <tr>\n",
       "      <th>1.069040e+10</th>\n",
       "      <td>1538352000</td>\n",
       "      <td>1541030400</td>\n",
       "      <td>128169.0</td>\n",
       "      <td>25418.0</td>\n",
       "      <td>{\"010690402013\":370,\"010690402011\":322,\"010690...</td>\n",
       "      <td>{\"010690402024\":313,\"010690415004\":203,\"010450...</td>\n",
       "      <td>42684.0</td>\n",
       "      <td>[\"Chick-fil-A\",\"Sam's Club\",\"Dollar General\",\"...</td>\n",
       "      <td>[\"walmart\",\"Dollar General\",\"mcdonalds\",\"Marat...</td>\n",
       "      <td>[\"Chick-fil-A\",\"Sam's Club\",\"Olive Garden\",\"mc...</td>\n",
       "      <td>[2121,1828,1784,1704,1861,2373,3730,7497,7093,...</td>\n",
       "      <td>{\"Monday\":21141,\"Tuesday\":21143,\"Wednesday\":17...</td>\n",
       "    </tr>\n",
       "    <tr>\n",
       "      <th>1.073011e+10</th>\n",
       "      <td>1538352000</td>\n",
       "      <td>1541030400</td>\n",
       "      <td>51453.0</td>\n",
       "      <td>9499.0</td>\n",
       "      <td>{\"010090507001\":183,\"010730113021\":167,\"010730...</td>\n",
       "      <td>{\"010730045001\":140,\"010730027001\":123,\"010730...</td>\n",
       "      <td>18878.0</td>\n",
       "      <td>[\"Chevron\",\"Daylight Donuts\",\"walmart\"]</td>\n",
       "      <td>[\"walmart\",\"Chevron\",\"Dollar General\",\"Shell O...</td>\n",
       "      <td>[\"Chevron\",\"CrossFit\"]</td>\n",
       "      <td>[3804,3716,3686,3672,3735,4115,4855,5946,4526,...</td>\n",
       "      <td>{\"Monday\":8402,\"Tuesday\":8414,\"Wednesday\":8550...</td>\n",
       "    </tr>\n",
       "  </tbody>\n",
       "</table>\n",
       "</div>"
      ],
      "text/plain": [
       "                    date_range_start  date_range_end  raw_visit_count  \\\n",
       "census_block_group                                                      \n",
       "1.005951e+10              1538352000      1541030400          75122.0   \n",
       "1.009051e+10              1538352000      1541030400          95649.0   \n",
       "1.047957e+10              1538352000      1541030400          14009.0   \n",
       "1.069040e+10              1538352000      1541030400         128169.0   \n",
       "1.073011e+10              1538352000      1541030400          51453.0   \n",
       "\n",
       "                    raw_visitor_count  \\\n",
       "census_block_group                      \n",
       "1.005951e+10                  18314.0   \n",
       "1.009051e+10                  38942.0   \n",
       "1.047957e+10                   3039.0   \n",
       "1.069040e+10                  25418.0   \n",
       "1.073011e+10                   9499.0   \n",
       "\n",
       "                                                    visitor_home_cbgs  \\\n",
       "census_block_group                                                      \n",
       "1.005951e+10        {\"010059501003\":127,\"010059509001\":111,\"010059...   \n",
       "1.009051e+10        {\"010730113021\":210,\"010090506022\":205,\"010090...   \n",
       "1.047957e+10                    {\"010479567011\":67,\"010479567021\":60}   \n",
       "1.069040e+10        {\"010690402013\":370,\"010690402011\":322,\"010690...   \n",
       "1.073011e+10        {\"010090507001\":183,\"010730113021\":167,\"010730...   \n",
       "\n",
       "                                                    visitor_work_cbgs  \\\n",
       "census_block_group                                                      \n",
       "1.005951e+10        {\"010059501003\":109,\"010810407002\":62,\"0108104...   \n",
       "1.009051e+10        {\"010890111001\":271,\"010730045001\":269,\"010439...   \n",
       "1.047957e+10                                      {\"010479567021\":52}   \n",
       "1.069040e+10        {\"010690402024\":313,\"010690415004\":203,\"010450...   \n",
       "1.073011e+10        {\"010730045001\":140,\"010730027001\":123,\"010730...   \n",
       "\n",
       "                    distance_from_home  \\\n",
       "census_block_group                       \n",
       "1.005951e+10                  194724.0   \n",
       "1.009051e+10                  120587.0   \n",
       "1.047957e+10                   67774.0   \n",
       "1.069040e+10                   42684.0   \n",
       "1.073011e+10                   18878.0   \n",
       "\n",
       "                                               related_same_day_brand  \\\n",
       "census_block_group                                                      \n",
       "1.005951e+10        [\"Chick-fil-A\",\"mcdonalds\",\"Marathon Petroleum...   \n",
       "1.009051e+10        [\"Shell Oil\",\"mcdonalds\",\"Chick-fil-A\",\"Chevron\"]   \n",
       "1.047957e+10                                       [\"Dollar General\"]   \n",
       "1.069040e+10        [\"Chick-fil-A\",\"Sam's Club\",\"Dollar General\",\"...   \n",
       "1.073011e+10                  [\"Chevron\",\"Daylight Donuts\",\"walmart\"]   \n",
       "\n",
       "                                             related_same_month_brand  \\\n",
       "census_block_group                                                      \n",
       "1.005951e+10        [\"walmart\",\"mcdonalds\",\"Dollar General\",\"Chick...   \n",
       "1.009051e+10        [\"walmart\",\"mcdonalds\",\"Shell Oil\",\"Chick-fil-...   \n",
       "1.047957e+10        [\"walmart\",\"Dollar General\",\"mcdonalds\",\"Chevr...   \n",
       "1.069040e+10        [\"walmart\",\"Dollar General\",\"mcdonalds\",\"Marat...   \n",
       "1.073011e+10        [\"walmart\",\"Chevron\",\"Dollar General\",\"Shell O...   \n",
       "\n",
       "                                                           top_brands  \\\n",
       "census_block_group                                                      \n",
       "1.005951e+10             [\"CrossFit\",\"Health Mart\",\"Coldwell Banker\"]   \n",
       "1.009051e+10                                                       []   \n",
       "1.047957e+10                                       [\"Dollar General\"]   \n",
       "1.069040e+10        [\"Chick-fil-A\",\"Sam's Club\",\"Olive Garden\",\"mc...   \n",
       "1.073011e+10                                   [\"Chevron\",\"CrossFit\"]   \n",
       "\n",
       "                                                   popularity_by_hour  \\\n",
       "census_block_group                                                      \n",
       "1.005951e+10        [2617,2457,2403,2519,2646,3007,3886,7566,5508,...   \n",
       "1.009051e+10        [6556,6325,6222,6355,6586,7350,8568,8099,7378,...   \n",
       "1.047957e+10        [807,790,796,786,851,951,1134,1797,1355,1241,1...   \n",
       "1.069040e+10        [2121,1828,1784,1704,1861,2373,3730,7497,7093,...   \n",
       "1.073011e+10        [3804,3716,3686,3672,3735,4115,4855,5946,4526,...   \n",
       "\n",
       "                                                    popularity_by_day  \n",
       "census_block_group                                                     \n",
       "1.005951e+10        {\"Monday\":12000,\"Tuesday\":12224,\"Wednesday\":10...  \n",
       "1.009051e+10        {\"Monday\":12125,\"Tuesday\":12984,\"Wednesday\":12...  \n",
       "1.047957e+10        {\"Monday\":2314,\"Tuesday\":2340,\"Wednesday\":2195...  \n",
       "1.069040e+10        {\"Monday\":21141,\"Tuesday\":21143,\"Wednesday\":17...  \n",
       "1.073011e+10        {\"Monday\":8402,\"Tuesday\":8414,\"Wednesday\":8550...  "
      ]
     },
     "execution_count": 40,
     "metadata": {},
     "output_type": "execute_result"
    }
   ],
   "source": [
    "from collections import Counter\n",
    "from math import isnan\n",
    "\n",
    "miss_features = ['raw_visit_count','raw_visitor_count','distance_from_home']\n",
    "fill_df = data_df\n",
    "\n",
    "for col in miss_features:\n",
    "    word_counts = Counter(fill_df[col])\n",
    "    top = word_counts.most_common(1)[0][0]\n",
    "    if type(top) != str:\n",
    "        if isnan(top):\n",
    "            top = word_counts.most_common(2)[1][0]\n",
    "    print(top, type(top))\n",
    "    temp = fill_df[col].fillna(top)\n",
    "    fill_df[col] = temp\n",
    "fill_df.head()"
   ]
  },
  {
   "cell_type": "code",
   "execution_count": 41,
   "metadata": {},
   "outputs": [
    {
     "data": {
      "text/html": [
       "<div>\n",
       "<style scoped>\n",
       "    .dataframe tbody tr th:only-of-type {\n",
       "        vertical-align: middle;\n",
       "    }\n",
       "\n",
       "    .dataframe tbody tr th {\n",
       "        vertical-align: top;\n",
       "    }\n",
       "\n",
       "    .dataframe thead th {\n",
       "        text-align: right;\n",
       "    }\n",
       "</style>\n",
       "<table border=\"1\" class=\"dataframe\">\n",
       "  <thead>\n",
       "    <tr style=\"text-align: right;\">\n",
       "      <th></th>\n",
       "      <th>date_range_start</th>\n",
       "      <th>date_range_end</th>\n",
       "      <th>raw_visit_count</th>\n",
       "      <th>raw_visitor_count</th>\n",
       "      <th>visitor_home_cbgs</th>\n",
       "      <th>visitor_work_cbgs</th>\n",
       "      <th>distance_from_home</th>\n",
       "      <th>related_same_day_brand</th>\n",
       "      <th>related_same_month_brand</th>\n",
       "      <th>top_brands</th>\n",
       "      <th>popularity_by_hour</th>\n",
       "      <th>popularity_by_day</th>\n",
       "    </tr>\n",
       "  </thead>\n",
       "  <tbody>\n",
       "    <tr>\n",
       "      <th>Total</th>\n",
       "      <td>0</td>\n",
       "      <td>0</td>\n",
       "      <td>0</td>\n",
       "      <td>0</td>\n",
       "      <td>0</td>\n",
       "      <td>0</td>\n",
       "      <td>0</td>\n",
       "      <td>0</td>\n",
       "      <td>0</td>\n",
       "      <td>0</td>\n",
       "      <td>0</td>\n",
       "      <td>0</td>\n",
       "    </tr>\n",
       "    <tr>\n",
       "      <th>Percent</th>\n",
       "      <td>0</td>\n",
       "      <td>0</td>\n",
       "      <td>0</td>\n",
       "      <td>0</td>\n",
       "      <td>0</td>\n",
       "      <td>0</td>\n",
       "      <td>0</td>\n",
       "      <td>0</td>\n",
       "      <td>0</td>\n",
       "      <td>0</td>\n",
       "      <td>0</td>\n",
       "      <td>0</td>\n",
       "    </tr>\n",
       "    <tr>\n",
       "      <th>Types</th>\n",
       "      <td>int64</td>\n",
       "      <td>int64</td>\n",
       "      <td>float64</td>\n",
       "      <td>float64</td>\n",
       "      <td>object</td>\n",
       "      <td>object</td>\n",
       "      <td>float64</td>\n",
       "      <td>object</td>\n",
       "      <td>object</td>\n",
       "      <td>object</td>\n",
       "      <td>object</td>\n",
       "      <td>object</td>\n",
       "    </tr>\n",
       "  </tbody>\n",
       "</table>\n",
       "</div>"
      ],
      "text/plain": [
       "        date_range_start date_range_end raw_visit_count raw_visitor_count  \\\n",
       "Total                  0              0               0                 0   \n",
       "Percent                0              0               0                 0   \n",
       "Types              int64          int64         float64           float64   \n",
       "\n",
       "        visitor_home_cbgs visitor_work_cbgs distance_from_home  \\\n",
       "Total                   0                 0                  0   \n",
       "Percent                 0                 0                  0   \n",
       "Types              object            object            float64   \n",
       "\n",
       "        related_same_day_brand related_same_month_brand top_brands  \\\n",
       "Total                        0                        0          0   \n",
       "Percent                      0                        0          0   \n",
       "Types                   object                   object     object   \n",
       "\n",
       "        popularity_by_hour popularity_by_day  \n",
       "Total                    0                 0  \n",
       "Percent                  0                 0  \n",
       "Types               object            object  "
      ]
     },
     "execution_count": 41,
     "metadata": {},
     "output_type": "execute_result"
    }
   ],
   "source": [
    "missing_data(fill_df)"
   ]
  },
  {
   "cell_type": "markdown",
   "metadata": {},
   "source": [
    "### 通过属性相关关系填充"
   ]
  },
  {
   "cell_type": "code",
   "execution_count": 43,
   "metadata": {
    "scrolled": false
   },
   "outputs": [
    {
     "data": {
      "text/html": [
       "<div>\n",
       "<style scoped>\n",
       "    .dataframe tbody tr th:only-of-type {\n",
       "        vertical-align: middle;\n",
       "    }\n",
       "\n",
       "    .dataframe tbody tr th {\n",
       "        vertical-align: top;\n",
       "    }\n",
       "\n",
       "    .dataframe thead th {\n",
       "        text-align: right;\n",
       "    }\n",
       "</style>\n",
       "<table border=\"1\" class=\"dataframe\">\n",
       "  <thead>\n",
       "    <tr style=\"text-align: right;\">\n",
       "      <th></th>\n",
       "      <th>date_range_start</th>\n",
       "      <th>date_range_end</th>\n",
       "      <th>raw_visit_count</th>\n",
       "      <th>raw_visitor_count</th>\n",
       "      <th>distance_from_home</th>\n",
       "    </tr>\n",
       "  </thead>\n",
       "  <tbody>\n",
       "    <tr>\n",
       "      <th>date_range_start</th>\n",
       "      <td>NaN</td>\n",
       "      <td>NaN</td>\n",
       "      <td>NaN</td>\n",
       "      <td>NaN</td>\n",
       "      <td>NaN</td>\n",
       "    </tr>\n",
       "    <tr>\n",
       "      <th>date_range_end</th>\n",
       "      <td>NaN</td>\n",
       "      <td>NaN</td>\n",
       "      <td>NaN</td>\n",
       "      <td>NaN</td>\n",
       "      <td>NaN</td>\n",
       "    </tr>\n",
       "    <tr>\n",
       "      <th>raw_visit_count</th>\n",
       "      <td>NaN</td>\n",
       "      <td>NaN</td>\n",
       "      <td>1.000000</td>\n",
       "      <td>0.815860</td>\n",
       "      <td>0.021867</td>\n",
       "    </tr>\n",
       "    <tr>\n",
       "      <th>raw_visitor_count</th>\n",
       "      <td>NaN</td>\n",
       "      <td>NaN</td>\n",
       "      <td>0.815860</td>\n",
       "      <td>1.000000</td>\n",
       "      <td>0.032968</td>\n",
       "    </tr>\n",
       "    <tr>\n",
       "      <th>distance_from_home</th>\n",
       "      <td>NaN</td>\n",
       "      <td>NaN</td>\n",
       "      <td>0.021867</td>\n",
       "      <td>0.032968</td>\n",
       "      <td>1.000000</td>\n",
       "    </tr>\n",
       "  </tbody>\n",
       "</table>\n",
       "</div>"
      ],
      "text/plain": [
       "                    date_range_start  date_range_end  raw_visit_count  \\\n",
       "date_range_start                 NaN             NaN              NaN   \n",
       "date_range_end                   NaN             NaN              NaN   \n",
       "raw_visit_count                  NaN             NaN         1.000000   \n",
       "raw_visitor_count                NaN             NaN         0.815860   \n",
       "distance_from_home               NaN             NaN         0.021867   \n",
       "\n",
       "                    raw_visitor_count  distance_from_home  \n",
       "date_range_start                  NaN                 NaN  \n",
       "date_range_end                    NaN                 NaN  \n",
       "raw_visit_count              0.815860            0.021867  \n",
       "raw_visitor_count            1.000000            0.032968  \n",
       "distance_from_home           0.032968            1.000000  "
      ]
     },
     "execution_count": 43,
     "metadata": {},
     "output_type": "execute_result"
    }
   ],
   "source": [
    "data_df.corr()"
   ]
  },
  {
   "cell_type": "code",
   "execution_count": 44,
   "metadata": {},
   "outputs": [
    {
     "data": {
      "text/html": [
       "<div>\n",
       "<style scoped>\n",
       "    .dataframe tbody tr th:only-of-type {\n",
       "        vertical-align: middle;\n",
       "    }\n",
       "\n",
       "    .dataframe tbody tr th {\n",
       "        vertical-align: top;\n",
       "    }\n",
       "\n",
       "    .dataframe thead th {\n",
       "        text-align: right;\n",
       "    }\n",
       "</style>\n",
       "<table border=\"1\" class=\"dataframe\">\n",
       "  <thead>\n",
       "    <tr style=\"text-align: right;\">\n",
       "      <th></th>\n",
       "      <th>date_range_start</th>\n",
       "      <th>date_range_end</th>\n",
       "      <th>raw_visit_count</th>\n",
       "      <th>raw_visitor_count</th>\n",
       "      <th>distance_from_home</th>\n",
       "    </tr>\n",
       "  </thead>\n",
       "  <tbody>\n",
       "    <tr>\n",
       "      <th>date_range_start</th>\n",
       "      <td>NaN</td>\n",
       "      <td>NaN</td>\n",
       "      <td>NaN</td>\n",
       "      <td>NaN</td>\n",
       "      <td>NaN</td>\n",
       "    </tr>\n",
       "    <tr>\n",
       "      <th>date_range_end</th>\n",
       "      <td>NaN</td>\n",
       "      <td>NaN</td>\n",
       "      <td>NaN</td>\n",
       "      <td>NaN</td>\n",
       "      <td>NaN</td>\n",
       "    </tr>\n",
       "    <tr>\n",
       "      <th>raw_visit_count</th>\n",
       "      <td>NaN</td>\n",
       "      <td>NaN</td>\n",
       "      <td>1.000000</td>\n",
       "      <td>0.937175</td>\n",
       "      <td>0.182710</td>\n",
       "    </tr>\n",
       "    <tr>\n",
       "      <th>raw_visitor_count</th>\n",
       "      <td>NaN</td>\n",
       "      <td>NaN</td>\n",
       "      <td>0.937175</td>\n",
       "      <td>1.000000</td>\n",
       "      <td>0.199526</td>\n",
       "    </tr>\n",
       "    <tr>\n",
       "      <th>distance_from_home</th>\n",
       "      <td>NaN</td>\n",
       "      <td>NaN</td>\n",
       "      <td>0.182710</td>\n",
       "      <td>0.199526</td>\n",
       "      <td>1.000000</td>\n",
       "    </tr>\n",
       "  </tbody>\n",
       "</table>\n",
       "</div>"
      ],
      "text/plain": [
       "                    date_range_start  date_range_end  raw_visit_count  \\\n",
       "date_range_start                 NaN             NaN              NaN   \n",
       "date_range_end                   NaN             NaN              NaN   \n",
       "raw_visit_count                  NaN             NaN         1.000000   \n",
       "raw_visitor_count                NaN             NaN         0.937175   \n",
       "distance_from_home               NaN             NaN         0.182710   \n",
       "\n",
       "                    raw_visitor_count  distance_from_home  \n",
       "date_range_start                  NaN                 NaN  \n",
       "date_range_end                    NaN                 NaN  \n",
       "raw_visit_count              0.937175            0.182710  \n",
       "raw_visitor_count            1.000000            0.199526  \n",
       "distance_from_home           0.199526            1.000000  "
      ]
     },
     "execution_count": 44,
     "metadata": {},
     "output_type": "execute_result"
    }
   ],
   "source": [
    "data_df.corr('spearman')"
   ]
  },
  {
   "cell_type": "markdown",
   "metadata": {},
   "source": [
    "### 通过相似对象填充"
   ]
  },
  {
   "cell_type": "code",
   "execution_count": null,
   "metadata": {},
   "outputs": [],
   "source": [
    "from fancyimpute import KNN\n",
    "\n",
    "features = ['date_range_start','date_range_end','raw_visit_count','raw_visitor_count','distance_from_home']\n",
    "train_data_x = data_df[features]\n",
    "train_data_x = pd.DataFrame(KNN(k=6).fit_transform(train_data_x), columns=features)"
   ]
  },
  {
   "cell_type": "code",
   "execution_count": null,
   "metadata": {},
   "outputs": [],
   "source": []
  }
 ],
 "metadata": {
  "kernelspec": {
   "display_name": "Python 3",
   "language": "python",
   "name": "python3"
  },
  "language_info": {
   "codemirror_mode": {
    "name": "ipython",
    "version": 3
   },
   "file_extension": ".py",
   "mimetype": "text/x-python",
   "name": "python",
   "nbconvert_exporter": "python",
   "pygments_lexer": "ipython3",
   "version": "3.6.5"
  }
 },
 "nbformat": 4,
 "nbformat_minor": 2
}
